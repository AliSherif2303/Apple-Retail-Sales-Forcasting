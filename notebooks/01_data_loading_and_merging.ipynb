{
 "cells": [
  {
   "cell_type": "code",
   "execution_count": 28,
   "id": "f3d10c9a",
   "metadata": {},
   "outputs": [
    {
     "data": {
      "application/vnd.microsoft.datawrangler.viewer.v0+json": {
       "columns": [
        {
         "name": "index",
         "rawType": "int64",
         "type": "integer"
        },
        {
         "name": "sale_id",
         "rawType": "object",
         "type": "string"
        },
        {
         "name": "sale_date",
         "rawType": "object",
         "type": "string"
        },
        {
         "name": "store_id",
         "rawType": "object",
         "type": "string"
        },
        {
         "name": "product_id",
         "rawType": "object",
         "type": "string"
        },
        {
         "name": "quantity",
         "rawType": "int64",
         "type": "integer"
        },
        {
         "name": "Product_ID",
         "rawType": "object",
         "type": "string"
        },
        {
         "name": "Product_Name",
         "rawType": "object",
         "type": "string"
        },
        {
         "name": "Category_ID",
         "rawType": "object",
         "type": "string"
        },
        {
         "name": "Launch_Date",
         "rawType": "object",
         "type": "string"
        },
        {
         "name": "Price",
         "rawType": "int64",
         "type": "integer"
        },
        {
         "name": "Store_ID",
         "rawType": "object",
         "type": "string"
        },
        {
         "name": "Store_Name",
         "rawType": "object",
         "type": "string"
        },
        {
         "name": "City",
         "rawType": "object",
         "type": "string"
        },
        {
         "name": "Country",
         "rawType": "object",
         "type": "string"
        },
        {
         "name": "category_id",
         "rawType": "object",
         "type": "string"
        },
        {
         "name": "category_name",
         "rawType": "object",
         "type": "string"
        },
        {
         "name": "claim_id",
         "rawType": "object",
         "type": "string"
        },
        {
         "name": "claim_date",
         "rawType": "object",
         "type": "string"
        },
        {
         "name": "repair_status",
         "rawType": "object",
         "type": "string"
        }
       ],
       "ref": "830c4198-a39a-40c0-b83e-cc7b9f538656",
       "rows": [
        [
         "0",
         "YG-8782",
         "16-06-2023",
         "ST-10",
         "P-38",
         "10",
         "P-38",
         "iPhone 13 Pro",
         "CAT-4",
         "2021-03-22",
         "308",
         "ST-10",
         "Apple South Coast Plaza",
         "Costa Mesa",
         "United States",
         "CAT-4",
         "Smartphone",
         "CL-58750",
         "2024-01-30",
         "Completed"
        ],
        [
         "1",
         "QX-999001",
         "13-04-2022",
         "ST-63",
         "P-48",
         "10",
         "P-48",
         "Apple Watch Nike Edition",
         "CAT-5",
         "2020-06-24",
         "884",
         "ST-63",
         "Apple Parque La Colina",
         "Bogota",
         "Colombia",
         "CAT-5",
         "Wearable",
         "CL-8874",
         "2024-06-25",
         "Pending"
        ],
        [
         "2",
         "JG-46890",
         "05-07-2021",
         "ST-26",
         "P-79",
         "5",
         "P-79",
         "Magic Trackpad",
         "CAT-10",
         "2024-05-25",
         "1242",
         "ST-26",
         "Apple Leidseplein",
         "Amsterdam",
         "Netherlands",
         "CAT-10",
         "Accessories",
         "CL-14486",
         "2024-08-13",
         "Pending"
        ],
        [
         "3",
         "XJ-1731",
         "20-07-2022",
         "ST-15",
         "P-24",
         "9",
         "P-24",
         "iPad mini (6th Generation)",
         "CAT-3",
         "2022-11-27",
         "573",
         "ST-15",
         "Apple Downtown Brooklyn",
         "Brooklyn",
         "United States",
         "CAT-3",
         "Tablet",
         "CL-42187",
         "2024-09-19",
         "Pending"
        ],
        [
         "4",
         "FG-95080",
         "18-03-2022",
         "ST-35",
         "P-69",
         "7",
         "P-69",
         "Apple TV+",
         "CAT-8",
         "2024-11-04",
         "404",
         "ST-35",
         "Apple Shanghai IFC",
         "Shanghai",
         "China",
         "CAT-8",
         "Subscription Service",
         "CL-37590",
         "2024-09-16",
         "Completed"
        ]
       ],
       "shape": {
        "columns": 19,
        "rows": 5
       }
      },
      "text/html": [
       "<div>\n",
       "<style scoped>\n",
       "    .dataframe tbody tr th:only-of-type {\n",
       "        vertical-align: middle;\n",
       "    }\n",
       "\n",
       "    .dataframe tbody tr th {\n",
       "        vertical-align: top;\n",
       "    }\n",
       "\n",
       "    .dataframe thead th {\n",
       "        text-align: right;\n",
       "    }\n",
       "</style>\n",
       "<table border=\"1\" class=\"dataframe\">\n",
       "  <thead>\n",
       "    <tr style=\"text-align: right;\">\n",
       "      <th></th>\n",
       "      <th>sale_id</th>\n",
       "      <th>sale_date</th>\n",
       "      <th>store_id</th>\n",
       "      <th>product_id</th>\n",
       "      <th>quantity</th>\n",
       "      <th>Product_ID</th>\n",
       "      <th>Product_Name</th>\n",
       "      <th>Category_ID</th>\n",
       "      <th>Launch_Date</th>\n",
       "      <th>Price</th>\n",
       "      <th>Store_ID</th>\n",
       "      <th>Store_Name</th>\n",
       "      <th>City</th>\n",
       "      <th>Country</th>\n",
       "      <th>category_id</th>\n",
       "      <th>category_name</th>\n",
       "      <th>claim_id</th>\n",
       "      <th>claim_date</th>\n",
       "      <th>repair_status</th>\n",
       "    </tr>\n",
       "  </thead>\n",
       "  <tbody>\n",
       "    <tr>\n",
       "      <th>0</th>\n",
       "      <td>YG-8782</td>\n",
       "      <td>16-06-2023</td>\n",
       "      <td>ST-10</td>\n",
       "      <td>P-38</td>\n",
       "      <td>10</td>\n",
       "      <td>P-38</td>\n",
       "      <td>iPhone 13 Pro</td>\n",
       "      <td>CAT-4</td>\n",
       "      <td>2021-03-22</td>\n",
       "      <td>308</td>\n",
       "      <td>ST-10</td>\n",
       "      <td>Apple South Coast Plaza</td>\n",
       "      <td>Costa Mesa</td>\n",
       "      <td>United States</td>\n",
       "      <td>CAT-4</td>\n",
       "      <td>Smartphone</td>\n",
       "      <td>CL-58750</td>\n",
       "      <td>2024-01-30</td>\n",
       "      <td>Completed</td>\n",
       "    </tr>\n",
       "    <tr>\n",
       "      <th>1</th>\n",
       "      <td>QX-999001</td>\n",
       "      <td>13-04-2022</td>\n",
       "      <td>ST-63</td>\n",
       "      <td>P-48</td>\n",
       "      <td>10</td>\n",
       "      <td>P-48</td>\n",
       "      <td>Apple Watch Nike Edition</td>\n",
       "      <td>CAT-5</td>\n",
       "      <td>2020-06-24</td>\n",
       "      <td>884</td>\n",
       "      <td>ST-63</td>\n",
       "      <td>Apple Parque La Colina</td>\n",
       "      <td>Bogota</td>\n",
       "      <td>Colombia</td>\n",
       "      <td>CAT-5</td>\n",
       "      <td>Wearable</td>\n",
       "      <td>CL-8874</td>\n",
       "      <td>2024-06-25</td>\n",
       "      <td>Pending</td>\n",
       "    </tr>\n",
       "    <tr>\n",
       "      <th>2</th>\n",
       "      <td>JG-46890</td>\n",
       "      <td>05-07-2021</td>\n",
       "      <td>ST-26</td>\n",
       "      <td>P-79</td>\n",
       "      <td>5</td>\n",
       "      <td>P-79</td>\n",
       "      <td>Magic Trackpad</td>\n",
       "      <td>CAT-10</td>\n",
       "      <td>2024-05-25</td>\n",
       "      <td>1242</td>\n",
       "      <td>ST-26</td>\n",
       "      <td>Apple Leidseplein</td>\n",
       "      <td>Amsterdam</td>\n",
       "      <td>Netherlands</td>\n",
       "      <td>CAT-10</td>\n",
       "      <td>Accessories</td>\n",
       "      <td>CL-14486</td>\n",
       "      <td>2024-08-13</td>\n",
       "      <td>Pending</td>\n",
       "    </tr>\n",
       "    <tr>\n",
       "      <th>3</th>\n",
       "      <td>XJ-1731</td>\n",
       "      <td>20-07-2022</td>\n",
       "      <td>ST-15</td>\n",
       "      <td>P-24</td>\n",
       "      <td>9</td>\n",
       "      <td>P-24</td>\n",
       "      <td>iPad mini (6th Generation)</td>\n",
       "      <td>CAT-3</td>\n",
       "      <td>2022-11-27</td>\n",
       "      <td>573</td>\n",
       "      <td>ST-15</td>\n",
       "      <td>Apple Downtown Brooklyn</td>\n",
       "      <td>Brooklyn</td>\n",
       "      <td>United States</td>\n",
       "      <td>CAT-3</td>\n",
       "      <td>Tablet</td>\n",
       "      <td>CL-42187</td>\n",
       "      <td>2024-09-19</td>\n",
       "      <td>Pending</td>\n",
       "    </tr>\n",
       "    <tr>\n",
       "      <th>4</th>\n",
       "      <td>FG-95080</td>\n",
       "      <td>18-03-2022</td>\n",
       "      <td>ST-35</td>\n",
       "      <td>P-69</td>\n",
       "      <td>7</td>\n",
       "      <td>P-69</td>\n",
       "      <td>Apple TV+</td>\n",
       "      <td>CAT-8</td>\n",
       "      <td>2024-11-04</td>\n",
       "      <td>404</td>\n",
       "      <td>ST-35</td>\n",
       "      <td>Apple Shanghai IFC</td>\n",
       "      <td>Shanghai</td>\n",
       "      <td>China</td>\n",
       "      <td>CAT-8</td>\n",
       "      <td>Subscription Service</td>\n",
       "      <td>CL-37590</td>\n",
       "      <td>2024-09-16</td>\n",
       "      <td>Completed</td>\n",
       "    </tr>\n",
       "  </tbody>\n",
       "</table>\n",
       "</div>"
      ],
      "text/plain": [
       "     sale_id   sale_date store_id product_id  quantity Product_ID  \\\n",
       "0    YG-8782  16-06-2023    ST-10       P-38        10       P-38   \n",
       "1  QX-999001  13-04-2022    ST-63       P-48        10       P-48   \n",
       "2   JG-46890  05-07-2021    ST-26       P-79         5       P-79   \n",
       "3    XJ-1731  20-07-2022    ST-15       P-24         9       P-24   \n",
       "4   FG-95080  18-03-2022    ST-35       P-69         7       P-69   \n",
       "\n",
       "                 Product_Name Category_ID Launch_Date  Price Store_ID  \\\n",
       "0               iPhone 13 Pro       CAT-4  2021-03-22    308    ST-10   \n",
       "1    Apple Watch Nike Edition       CAT-5  2020-06-24    884    ST-63   \n",
       "2              Magic Trackpad      CAT-10  2024-05-25   1242    ST-26   \n",
       "3  iPad mini (6th Generation)       CAT-3  2022-11-27    573    ST-15   \n",
       "4                   Apple TV+       CAT-8  2024-11-04    404    ST-35   \n",
       "\n",
       "                Store_Name        City        Country category_id  \\\n",
       "0  Apple South Coast Plaza  Costa Mesa  United States       CAT-4   \n",
       "1   Apple Parque La Colina      Bogota       Colombia       CAT-5   \n",
       "2        Apple Leidseplein   Amsterdam    Netherlands      CAT-10   \n",
       "3  Apple Downtown Brooklyn    Brooklyn  United States       CAT-3   \n",
       "4       Apple Shanghai IFC    Shanghai          China       CAT-8   \n",
       "\n",
       "          category_name  claim_id  claim_date repair_status  \n",
       "0            Smartphone  CL-58750  2024-01-30     Completed  \n",
       "1              Wearable   CL-8874  2024-06-25       Pending  \n",
       "2           Accessories  CL-14486  2024-08-13       Pending  \n",
       "3                Tablet  CL-42187  2024-09-19       Pending  \n",
       "4  Subscription Service  CL-37590  2024-09-16     Completed  "
      ]
     },
     "execution_count": 28,
     "metadata": {},
     "output_type": "execute_result"
    }
   ],
   "source": [
    "import matplotlib.pyplot as plt\n",
    "import seaborn as sns\n",
    "import pandas as pd\n",
    "import numpy as np\n",
    "import sys\n",
    "import os\n",
    "sys.path.append(os.path.abspath('../'))\n",
    "\n",
    "\n",
    "from scripts.data_loader import load_data\n",
    "from scripts.data_cleaning import merge_all\n",
    "\n",
    "data = load_data()\n",
    "mf = merge_all(data)\n",
    "mf.head()"
   ]
  },
  {
   "cell_type": "code",
   "execution_count": 3,
   "id": "859362cd",
   "metadata": {},
   "outputs": [
    {
     "name": "stdout",
     "output_type": "stream",
     "text": [
      "=== Dataset Info ===\n",
      "<class 'pandas.core.frame.DataFrame'>\n",
      "RangeIndex: 1040200 entries, 0 to 1040199\n",
      "Data columns (total 19 columns):\n",
      " #   Column         Non-Null Count    Dtype \n",
      "---  ------         --------------    ----- \n",
      " 0   sale_id        1040200 non-null  object\n",
      " 1   sale_date      1040200 non-null  object\n",
      " 2   store_id       1040200 non-null  object\n",
      " 3   product_id     1040200 non-null  object\n",
      " 4   quantity       1040200 non-null  int64 \n",
      " 5   Product_ID     1040200 non-null  object\n",
      " 6   Product_Name   1040200 non-null  object\n",
      " 7   Category_ID    1040200 non-null  object\n",
      " 8   Launch_Date    1040200 non-null  object\n",
      " 9   Price          1040200 non-null  int64 \n",
      " 10  Store_ID       1040200 non-null  object\n",
      " 11  Store_Name     1040200 non-null  object\n",
      " 12  City           1040200 non-null  object\n",
      " 13  Country        1040200 non-null  object\n",
      " 14  category_id    1040200 non-null  object\n",
      " 15  category_name  1040200 non-null  object\n",
      " 16  claim_id       30000 non-null    object\n",
      " 17  claim_date     30000 non-null    object\n",
      " 18  repair_status  30000 non-null    object\n",
      "dtypes: int64(2), object(17)\n",
      "memory usage: 150.8+ MB\n",
      "None\n",
      "\n",
      "Number of rows: 1040200\n",
      "Number of columns: 19\n"
     ]
    },
    {
     "data": {
      "application/vnd.microsoft.datawrangler.viewer.v0+json": {
       "columns": [
        {
         "name": "index",
         "rawType": "int64",
         "type": "integer"
        },
        {
         "name": "sale_id",
         "rawType": "object",
         "type": "string"
        },
        {
         "name": "sale_date",
         "rawType": "object",
         "type": "string"
        },
        {
         "name": "store_id",
         "rawType": "object",
         "type": "string"
        },
        {
         "name": "product_id",
         "rawType": "object",
         "type": "string"
        },
        {
         "name": "quantity",
         "rawType": "int64",
         "type": "integer"
        },
        {
         "name": "Product_ID",
         "rawType": "object",
         "type": "string"
        },
        {
         "name": "Product_Name",
         "rawType": "object",
         "type": "string"
        },
        {
         "name": "Category_ID",
         "rawType": "object",
         "type": "string"
        },
        {
         "name": "Launch_Date",
         "rawType": "object",
         "type": "string"
        },
        {
         "name": "Price",
         "rawType": "int64",
         "type": "integer"
        },
        {
         "name": "Store_ID",
         "rawType": "object",
         "type": "string"
        },
        {
         "name": "Store_Name",
         "rawType": "object",
         "type": "string"
        },
        {
         "name": "City",
         "rawType": "object",
         "type": "string"
        },
        {
         "name": "Country",
         "rawType": "object",
         "type": "string"
        },
        {
         "name": "category_id",
         "rawType": "object",
         "type": "string"
        },
        {
         "name": "category_name",
         "rawType": "object",
         "type": "string"
        },
        {
         "name": "claim_id",
         "rawType": "object",
         "type": "string"
        },
        {
         "name": "claim_date",
         "rawType": "object",
         "type": "string"
        },
        {
         "name": "repair_status",
         "rawType": "object",
         "type": "string"
        }
       ],
       "ref": "5df0bfe6-5333-48df-b60e-a0ed9c1bf250",
       "rows": [
        [
         "0",
         "YG-8782",
         "16-06-2023",
         "ST-10",
         "P-38",
         "10",
         "P-38",
         "iPhone 13 Pro",
         "CAT-4",
         "2021-03-22",
         "308",
         "ST-10",
         "Apple South Coast Plaza",
         "Costa Mesa",
         "United States",
         "CAT-4",
         "Smartphone",
         "CL-58750",
         "2024-01-30",
         "Completed"
        ],
        [
         "1",
         "QX-999001",
         "13-04-2022",
         "ST-63",
         "P-48",
         "10",
         "P-48",
         "Apple Watch Nike Edition",
         "CAT-5",
         "2020-06-24",
         "884",
         "ST-63",
         "Apple Parque La Colina",
         "Bogota",
         "Colombia",
         "CAT-5",
         "Wearable",
         "CL-8874",
         "2024-06-25",
         "Pending"
        ],
        [
         "2",
         "JG-46890",
         "05-07-2021",
         "ST-26",
         "P-79",
         "5",
         "P-79",
         "Magic Trackpad",
         "CAT-10",
         "2024-05-25",
         "1242",
         "ST-26",
         "Apple Leidseplein",
         "Amsterdam",
         "Netherlands",
         "CAT-10",
         "Accessories",
         "CL-14486",
         "2024-08-13",
         "Pending"
        ],
        [
         "3",
         "XJ-1731",
         "20-07-2022",
         "ST-15",
         "P-24",
         "9",
         "P-24",
         "iPad mini (6th Generation)",
         "CAT-3",
         "2022-11-27",
         "573",
         "ST-15",
         "Apple Downtown Brooklyn",
         "Brooklyn",
         "United States",
         "CAT-3",
         "Tablet",
         "CL-42187",
         "2024-09-19",
         "Pending"
        ],
        [
         "4",
         "FG-95080",
         "18-03-2022",
         "ST-35",
         "P-69",
         "7",
         "P-69",
         "Apple TV+",
         "CAT-8",
         "2024-11-04",
         "404",
         "ST-35",
         "Apple Shanghai IFC",
         "Shanghai",
         "China",
         "CAT-8",
         "Subscription Service",
         "CL-37590",
         "2024-09-16",
         "Completed"
        ]
       ],
       "shape": {
        "columns": 19,
        "rows": 5
       }
      },
      "text/html": [
       "<div>\n",
       "<style scoped>\n",
       "    .dataframe tbody tr th:only-of-type {\n",
       "        vertical-align: middle;\n",
       "    }\n",
       "\n",
       "    .dataframe tbody tr th {\n",
       "        vertical-align: top;\n",
       "    }\n",
       "\n",
       "    .dataframe thead th {\n",
       "        text-align: right;\n",
       "    }\n",
       "</style>\n",
       "<table border=\"1\" class=\"dataframe\">\n",
       "  <thead>\n",
       "    <tr style=\"text-align: right;\">\n",
       "      <th></th>\n",
       "      <th>sale_id</th>\n",
       "      <th>sale_date</th>\n",
       "      <th>store_id</th>\n",
       "      <th>product_id</th>\n",
       "      <th>quantity</th>\n",
       "      <th>Product_ID</th>\n",
       "      <th>Product_Name</th>\n",
       "      <th>Category_ID</th>\n",
       "      <th>Launch_Date</th>\n",
       "      <th>Price</th>\n",
       "      <th>Store_ID</th>\n",
       "      <th>Store_Name</th>\n",
       "      <th>City</th>\n",
       "      <th>Country</th>\n",
       "      <th>category_id</th>\n",
       "      <th>category_name</th>\n",
       "      <th>claim_id</th>\n",
       "      <th>claim_date</th>\n",
       "      <th>repair_status</th>\n",
       "    </tr>\n",
       "  </thead>\n",
       "  <tbody>\n",
       "    <tr>\n",
       "      <th>0</th>\n",
       "      <td>YG-8782</td>\n",
       "      <td>16-06-2023</td>\n",
       "      <td>ST-10</td>\n",
       "      <td>P-38</td>\n",
       "      <td>10</td>\n",
       "      <td>P-38</td>\n",
       "      <td>iPhone 13 Pro</td>\n",
       "      <td>CAT-4</td>\n",
       "      <td>2021-03-22</td>\n",
       "      <td>308</td>\n",
       "      <td>ST-10</td>\n",
       "      <td>Apple South Coast Plaza</td>\n",
       "      <td>Costa Mesa</td>\n",
       "      <td>United States</td>\n",
       "      <td>CAT-4</td>\n",
       "      <td>Smartphone</td>\n",
       "      <td>CL-58750</td>\n",
       "      <td>2024-01-30</td>\n",
       "      <td>Completed</td>\n",
       "    </tr>\n",
       "    <tr>\n",
       "      <th>1</th>\n",
       "      <td>QX-999001</td>\n",
       "      <td>13-04-2022</td>\n",
       "      <td>ST-63</td>\n",
       "      <td>P-48</td>\n",
       "      <td>10</td>\n",
       "      <td>P-48</td>\n",
       "      <td>Apple Watch Nike Edition</td>\n",
       "      <td>CAT-5</td>\n",
       "      <td>2020-06-24</td>\n",
       "      <td>884</td>\n",
       "      <td>ST-63</td>\n",
       "      <td>Apple Parque La Colina</td>\n",
       "      <td>Bogota</td>\n",
       "      <td>Colombia</td>\n",
       "      <td>CAT-5</td>\n",
       "      <td>Wearable</td>\n",
       "      <td>CL-8874</td>\n",
       "      <td>2024-06-25</td>\n",
       "      <td>Pending</td>\n",
       "    </tr>\n",
       "    <tr>\n",
       "      <th>2</th>\n",
       "      <td>JG-46890</td>\n",
       "      <td>05-07-2021</td>\n",
       "      <td>ST-26</td>\n",
       "      <td>P-79</td>\n",
       "      <td>5</td>\n",
       "      <td>P-79</td>\n",
       "      <td>Magic Trackpad</td>\n",
       "      <td>CAT-10</td>\n",
       "      <td>2024-05-25</td>\n",
       "      <td>1242</td>\n",
       "      <td>ST-26</td>\n",
       "      <td>Apple Leidseplein</td>\n",
       "      <td>Amsterdam</td>\n",
       "      <td>Netherlands</td>\n",
       "      <td>CAT-10</td>\n",
       "      <td>Accessories</td>\n",
       "      <td>CL-14486</td>\n",
       "      <td>2024-08-13</td>\n",
       "      <td>Pending</td>\n",
       "    </tr>\n",
       "    <tr>\n",
       "      <th>3</th>\n",
       "      <td>XJ-1731</td>\n",
       "      <td>20-07-2022</td>\n",
       "      <td>ST-15</td>\n",
       "      <td>P-24</td>\n",
       "      <td>9</td>\n",
       "      <td>P-24</td>\n",
       "      <td>iPad mini (6th Generation)</td>\n",
       "      <td>CAT-3</td>\n",
       "      <td>2022-11-27</td>\n",
       "      <td>573</td>\n",
       "      <td>ST-15</td>\n",
       "      <td>Apple Downtown Brooklyn</td>\n",
       "      <td>Brooklyn</td>\n",
       "      <td>United States</td>\n",
       "      <td>CAT-3</td>\n",
       "      <td>Tablet</td>\n",
       "      <td>CL-42187</td>\n",
       "      <td>2024-09-19</td>\n",
       "      <td>Pending</td>\n",
       "    </tr>\n",
       "    <tr>\n",
       "      <th>4</th>\n",
       "      <td>FG-95080</td>\n",
       "      <td>18-03-2022</td>\n",
       "      <td>ST-35</td>\n",
       "      <td>P-69</td>\n",
       "      <td>7</td>\n",
       "      <td>P-69</td>\n",
       "      <td>Apple TV+</td>\n",
       "      <td>CAT-8</td>\n",
       "      <td>2024-11-04</td>\n",
       "      <td>404</td>\n",
       "      <td>ST-35</td>\n",
       "      <td>Apple Shanghai IFC</td>\n",
       "      <td>Shanghai</td>\n",
       "      <td>China</td>\n",
       "      <td>CAT-8</td>\n",
       "      <td>Subscription Service</td>\n",
       "      <td>CL-37590</td>\n",
       "      <td>2024-09-16</td>\n",
       "      <td>Completed</td>\n",
       "    </tr>\n",
       "  </tbody>\n",
       "</table>\n",
       "</div>"
      ],
      "text/plain": [
       "     sale_id   sale_date store_id product_id  quantity Product_ID  \\\n",
       "0    YG-8782  16-06-2023    ST-10       P-38        10       P-38   \n",
       "1  QX-999001  13-04-2022    ST-63       P-48        10       P-48   \n",
       "2   JG-46890  05-07-2021    ST-26       P-79         5       P-79   \n",
       "3    XJ-1731  20-07-2022    ST-15       P-24         9       P-24   \n",
       "4   FG-95080  18-03-2022    ST-35       P-69         7       P-69   \n",
       "\n",
       "                 Product_Name Category_ID Launch_Date  Price Store_ID  \\\n",
       "0               iPhone 13 Pro       CAT-4  2021-03-22    308    ST-10   \n",
       "1    Apple Watch Nike Edition       CAT-5  2020-06-24    884    ST-63   \n",
       "2              Magic Trackpad      CAT-10  2024-05-25   1242    ST-26   \n",
       "3  iPad mini (6th Generation)       CAT-3  2022-11-27    573    ST-15   \n",
       "4                   Apple TV+       CAT-8  2024-11-04    404    ST-35   \n",
       "\n",
       "                Store_Name        City        Country category_id  \\\n",
       "0  Apple South Coast Plaza  Costa Mesa  United States       CAT-4   \n",
       "1   Apple Parque La Colina      Bogota       Colombia       CAT-5   \n",
       "2        Apple Leidseplein   Amsterdam    Netherlands      CAT-10   \n",
       "3  Apple Downtown Brooklyn    Brooklyn  United States       CAT-3   \n",
       "4       Apple Shanghai IFC    Shanghai          China       CAT-8   \n",
       "\n",
       "          category_name  claim_id  claim_date repair_status  \n",
       "0            Smartphone  CL-58750  2024-01-30     Completed  \n",
       "1              Wearable   CL-8874  2024-06-25       Pending  \n",
       "2           Accessories  CL-14486  2024-08-13       Pending  \n",
       "3                Tablet  CL-42187  2024-09-19       Pending  \n",
       "4  Subscription Service  CL-37590  2024-09-16     Completed  "
      ]
     },
     "execution_count": 3,
     "metadata": {},
     "output_type": "execute_result"
    }
   ],
   "source": [
    "print(\"=== Dataset Info ===\")\n",
    "print(mf.info())\n",
    "print(\"\\nNumber of rows:\", mf.shape[0])\n",
    "print(\"Number of columns:\", mf.shape[1])\n",
    "\n",
    "mf.head()\n"
   ]
  },
  {
   "cell_type": "code",
   "execution_count": 4,
   "id": "160c7c24",
   "metadata": {},
   "outputs": [
    {
     "data": {
      "application/vnd.microsoft.datawrangler.viewer.v0+json": {
       "columns": [
        {
         "name": "index",
         "rawType": "int64",
         "type": "integer"
        },
        {
         "name": "sale_id",
         "rawType": "object",
         "type": "string"
        },
        {
         "name": "sale_date",
         "rawType": "object",
         "type": "string"
        },
        {
         "name": "store_id",
         "rawType": "object",
         "type": "string"
        },
        {
         "name": "product_id",
         "rawType": "object",
         "type": "string"
        },
        {
         "name": "quantity",
         "rawType": "int64",
         "type": "integer"
        },
        {
         "name": "Product_ID",
         "rawType": "object",
         "type": "string"
        },
        {
         "name": "Product_Name",
         "rawType": "object",
         "type": "string"
        },
        {
         "name": "Category_ID",
         "rawType": "object",
         "type": "string"
        },
        {
         "name": "Launch_Date",
         "rawType": "object",
         "type": "string"
        },
        {
         "name": "Price",
         "rawType": "int64",
         "type": "integer"
        },
        {
         "name": "Store_ID",
         "rawType": "object",
         "type": "string"
        },
        {
         "name": "Store_Name",
         "rawType": "object",
         "type": "string"
        },
        {
         "name": "City",
         "rawType": "object",
         "type": "string"
        },
        {
         "name": "Country",
         "rawType": "object",
         "type": "string"
        },
        {
         "name": "category_id",
         "rawType": "object",
         "type": "string"
        },
        {
         "name": "category_name",
         "rawType": "object",
         "type": "string"
        },
        {
         "name": "claim_id",
         "rawType": "object",
         "type": "string"
        },
        {
         "name": "claim_date",
         "rawType": "object",
         "type": "string"
        },
        {
         "name": "repair_status",
         "rawType": "object",
         "type": "string"
        }
       ],
       "ref": "282a2b86-e973-4ad7-a149-8235537211fb",
       "rows": [
        [
         "0",
         "YG-8782",
         "16-06-2023",
         "ST-10",
         "P-38",
         "10",
         "P-38",
         "iPhone 13 Pro",
         "CAT-4",
         "2021-03-22",
         "308",
         "ST-10",
         "Apple South Coast Plaza",
         "Costa Mesa",
         "United States",
         "CAT-4",
         "Smartphone",
         "CL-58750",
         "2024-01-30",
         "Completed"
        ],
        [
         "1",
         "QX-999001",
         "13-04-2022",
         "ST-63",
         "P-48",
         "10",
         "P-48",
         "Apple Watch Nike Edition",
         "CAT-5",
         "2020-06-24",
         "884",
         "ST-63",
         "Apple Parque La Colina",
         "Bogota",
         "Colombia",
         "CAT-5",
         "Wearable",
         "CL-8874",
         "2024-06-25",
         "Pending"
        ],
        [
         "2",
         "JG-46890",
         "05-07-2021",
         "ST-26",
         "P-79",
         "5",
         "P-79",
         "Magic Trackpad",
         "CAT-10",
         "2024-05-25",
         "1242",
         "ST-26",
         "Apple Leidseplein",
         "Amsterdam",
         "Netherlands",
         "CAT-10",
         "Accessories",
         "CL-14486",
         "2024-08-13",
         "Pending"
        ],
        [
         "3",
         "XJ-1731",
         "20-07-2022",
         "ST-15",
         "P-24",
         "9",
         "P-24",
         "iPad mini (6th Generation)",
         "CAT-3",
         "2022-11-27",
         "573",
         "ST-15",
         "Apple Downtown Brooklyn",
         "Brooklyn",
         "United States",
         "CAT-3",
         "Tablet",
         "CL-42187",
         "2024-09-19",
         "Pending"
        ],
        [
         "4",
         "FG-95080",
         "18-03-2022",
         "ST-35",
         "P-69",
         "7",
         "P-69",
         "Apple TV+",
         "CAT-8",
         "2024-11-04",
         "404",
         "ST-35",
         "Apple Shanghai IFC",
         "Shanghai",
         "China",
         "CAT-8",
         "Subscription Service",
         "CL-37590",
         "2024-09-16",
         "Completed"
        ]
       ],
       "shape": {
        "columns": 19,
        "rows": 5
       }
      },
      "text/html": [
       "<div>\n",
       "<style scoped>\n",
       "    .dataframe tbody tr th:only-of-type {\n",
       "        vertical-align: middle;\n",
       "    }\n",
       "\n",
       "    .dataframe tbody tr th {\n",
       "        vertical-align: top;\n",
       "    }\n",
       "\n",
       "    .dataframe thead th {\n",
       "        text-align: right;\n",
       "    }\n",
       "</style>\n",
       "<table border=\"1\" class=\"dataframe\">\n",
       "  <thead>\n",
       "    <tr style=\"text-align: right;\">\n",
       "      <th></th>\n",
       "      <th>sale_id</th>\n",
       "      <th>sale_date</th>\n",
       "      <th>store_id</th>\n",
       "      <th>product_id</th>\n",
       "      <th>quantity</th>\n",
       "      <th>Product_ID</th>\n",
       "      <th>Product_Name</th>\n",
       "      <th>Category_ID</th>\n",
       "      <th>Launch_Date</th>\n",
       "      <th>Price</th>\n",
       "      <th>Store_ID</th>\n",
       "      <th>Store_Name</th>\n",
       "      <th>City</th>\n",
       "      <th>Country</th>\n",
       "      <th>category_id</th>\n",
       "      <th>category_name</th>\n",
       "      <th>claim_id</th>\n",
       "      <th>claim_date</th>\n",
       "      <th>repair_status</th>\n",
       "    </tr>\n",
       "  </thead>\n",
       "  <tbody>\n",
       "    <tr>\n",
       "      <th>0</th>\n",
       "      <td>YG-8782</td>\n",
       "      <td>16-06-2023</td>\n",
       "      <td>ST-10</td>\n",
       "      <td>P-38</td>\n",
       "      <td>10</td>\n",
       "      <td>P-38</td>\n",
       "      <td>iPhone 13 Pro</td>\n",
       "      <td>CAT-4</td>\n",
       "      <td>2021-03-22</td>\n",
       "      <td>308</td>\n",
       "      <td>ST-10</td>\n",
       "      <td>Apple South Coast Plaza</td>\n",
       "      <td>Costa Mesa</td>\n",
       "      <td>United States</td>\n",
       "      <td>CAT-4</td>\n",
       "      <td>Smartphone</td>\n",
       "      <td>CL-58750</td>\n",
       "      <td>2024-01-30</td>\n",
       "      <td>Completed</td>\n",
       "    </tr>\n",
       "    <tr>\n",
       "      <th>1</th>\n",
       "      <td>QX-999001</td>\n",
       "      <td>13-04-2022</td>\n",
       "      <td>ST-63</td>\n",
       "      <td>P-48</td>\n",
       "      <td>10</td>\n",
       "      <td>P-48</td>\n",
       "      <td>Apple Watch Nike Edition</td>\n",
       "      <td>CAT-5</td>\n",
       "      <td>2020-06-24</td>\n",
       "      <td>884</td>\n",
       "      <td>ST-63</td>\n",
       "      <td>Apple Parque La Colina</td>\n",
       "      <td>Bogota</td>\n",
       "      <td>Colombia</td>\n",
       "      <td>CAT-5</td>\n",
       "      <td>Wearable</td>\n",
       "      <td>CL-8874</td>\n",
       "      <td>2024-06-25</td>\n",
       "      <td>Pending</td>\n",
       "    </tr>\n",
       "    <tr>\n",
       "      <th>2</th>\n",
       "      <td>JG-46890</td>\n",
       "      <td>05-07-2021</td>\n",
       "      <td>ST-26</td>\n",
       "      <td>P-79</td>\n",
       "      <td>5</td>\n",
       "      <td>P-79</td>\n",
       "      <td>Magic Trackpad</td>\n",
       "      <td>CAT-10</td>\n",
       "      <td>2024-05-25</td>\n",
       "      <td>1242</td>\n",
       "      <td>ST-26</td>\n",
       "      <td>Apple Leidseplein</td>\n",
       "      <td>Amsterdam</td>\n",
       "      <td>Netherlands</td>\n",
       "      <td>CAT-10</td>\n",
       "      <td>Accessories</td>\n",
       "      <td>CL-14486</td>\n",
       "      <td>2024-08-13</td>\n",
       "      <td>Pending</td>\n",
       "    </tr>\n",
       "    <tr>\n",
       "      <th>3</th>\n",
       "      <td>XJ-1731</td>\n",
       "      <td>20-07-2022</td>\n",
       "      <td>ST-15</td>\n",
       "      <td>P-24</td>\n",
       "      <td>9</td>\n",
       "      <td>P-24</td>\n",
       "      <td>iPad mini (6th Generation)</td>\n",
       "      <td>CAT-3</td>\n",
       "      <td>2022-11-27</td>\n",
       "      <td>573</td>\n",
       "      <td>ST-15</td>\n",
       "      <td>Apple Downtown Brooklyn</td>\n",
       "      <td>Brooklyn</td>\n",
       "      <td>United States</td>\n",
       "      <td>CAT-3</td>\n",
       "      <td>Tablet</td>\n",
       "      <td>CL-42187</td>\n",
       "      <td>2024-09-19</td>\n",
       "      <td>Pending</td>\n",
       "    </tr>\n",
       "    <tr>\n",
       "      <th>4</th>\n",
       "      <td>FG-95080</td>\n",
       "      <td>18-03-2022</td>\n",
       "      <td>ST-35</td>\n",
       "      <td>P-69</td>\n",
       "      <td>7</td>\n",
       "      <td>P-69</td>\n",
       "      <td>Apple TV+</td>\n",
       "      <td>CAT-8</td>\n",
       "      <td>2024-11-04</td>\n",
       "      <td>404</td>\n",
       "      <td>ST-35</td>\n",
       "      <td>Apple Shanghai IFC</td>\n",
       "      <td>Shanghai</td>\n",
       "      <td>China</td>\n",
       "      <td>CAT-8</td>\n",
       "      <td>Subscription Service</td>\n",
       "      <td>CL-37590</td>\n",
       "      <td>2024-09-16</td>\n",
       "      <td>Completed</td>\n",
       "    </tr>\n",
       "  </tbody>\n",
       "</table>\n",
       "</div>"
      ],
      "text/plain": [
       "     sale_id   sale_date store_id product_id  quantity Product_ID  \\\n",
       "0    YG-8782  16-06-2023    ST-10       P-38        10       P-38   \n",
       "1  QX-999001  13-04-2022    ST-63       P-48        10       P-48   \n",
       "2   JG-46890  05-07-2021    ST-26       P-79         5       P-79   \n",
       "3    XJ-1731  20-07-2022    ST-15       P-24         9       P-24   \n",
       "4   FG-95080  18-03-2022    ST-35       P-69         7       P-69   \n",
       "\n",
       "                 Product_Name Category_ID Launch_Date  Price Store_ID  \\\n",
       "0               iPhone 13 Pro       CAT-4  2021-03-22    308    ST-10   \n",
       "1    Apple Watch Nike Edition       CAT-5  2020-06-24    884    ST-63   \n",
       "2              Magic Trackpad      CAT-10  2024-05-25   1242    ST-26   \n",
       "3  iPad mini (6th Generation)       CAT-3  2022-11-27    573    ST-15   \n",
       "4                   Apple TV+       CAT-8  2024-11-04    404    ST-35   \n",
       "\n",
       "                Store_Name        City        Country category_id  \\\n",
       "0  Apple South Coast Plaza  Costa Mesa  United States       CAT-4   \n",
       "1   Apple Parque La Colina      Bogota       Colombia       CAT-5   \n",
       "2        Apple Leidseplein   Amsterdam    Netherlands      CAT-10   \n",
       "3  Apple Downtown Brooklyn    Brooklyn  United States       CAT-3   \n",
       "4       Apple Shanghai IFC    Shanghai          China       CAT-8   \n",
       "\n",
       "          category_name  claim_id  claim_date repair_status  \n",
       "0            Smartphone  CL-58750  2024-01-30     Completed  \n",
       "1              Wearable   CL-8874  2024-06-25       Pending  \n",
       "2           Accessories  CL-14486  2024-08-13       Pending  \n",
       "3                Tablet  CL-42187  2024-09-19       Pending  \n",
       "4  Subscription Service  CL-37590  2024-09-16     Completed  "
      ]
     },
     "execution_count": 4,
     "metadata": {},
     "output_type": "execute_result"
    }
   ],
   "source": [
    "df = mf.copy()\n",
    "df.head()"
   ]
  },
  {
   "cell_type": "code",
   "execution_count": 5,
   "id": "33240b3e",
   "metadata": {},
   "outputs": [
    {
     "name": "stdout",
     "output_type": "stream",
     "text": [
      "\n",
      "=== Duplicate Rows ===\n",
      "Total duplicate rows: 0\n",
      "\n",
      "=== Missing Values ===\n",
      "claim_id         1010200\n",
      "claim_date       1010200\n",
      "repair_status    1010200\n",
      "dtype: int64\n"
     ]
    }
   ],
   "source": [
    "print(\"\\n=== Duplicate Rows ===\")\n",
    "duplicates = mf.duplicated().sum()\n",
    "print(f\"Total duplicate rows: {duplicates}\")\n",
    "\n",
    "print(\"\\n=== Missing Values ===\")\n",
    "missing_values = mf.isnull().sum()\n",
    "print(missing_values[missing_values > 0])\n"
   ]
  },
  {
   "cell_type": "code",
   "execution_count": 6,
   "id": "e90d5624",
   "metadata": {},
   "outputs": [
    {
     "name": "stdout",
     "output_type": "stream",
     "text": [
      "\n",
      "=== Inconsistent Column Names (Possible Duplicates) ===\n",
      "['product_id', 'store_id', 'category_id']\n",
      "\n",
      "=== Data Types ===\n",
      "sale_id          object\n",
      "sale_date        object\n",
      "store_id         object\n",
      "product_id       object\n",
      "quantity          int64\n",
      "Product_ID       object\n",
      "Product_Name     object\n",
      "Category_ID      object\n",
      "Launch_Date      object\n",
      "Price             int64\n",
      "Store_ID         object\n",
      "Store_Name       object\n",
      "City             object\n",
      "Country          object\n",
      "category_id      object\n",
      "category_name    object\n",
      "claim_id         object\n",
      "claim_date       object\n",
      "repair_status    object\n",
      "dtype: object\n"
     ]
    }
   ],
   "source": [
    "print(\"\\n=== Inconsistent Column Names (Possible Duplicates) ===\")\n",
    "cols_lower = [c.lower() for c in mf.columns]\n",
    "duplicates_in_columns = [c for c in set(cols_lower) if cols_lower.count(c) > 1]\n",
    "print(duplicates_in_columns)\n",
    "\n",
    "print(\"\\n=== Data Types ===\")\n",
    "print(mf.dtypes)\n"
   ]
  },
  {
   "cell_type": "code",
   "execution_count": 7,
   "id": "b70c7735",
   "metadata": {},
   "outputs": [
    {
     "name": "stdout",
     "output_type": "stream",
     "text": [
      "\n",
      "=== Summary Statistics ===\n",
      "        sale_id   sale_date store_id product_id      quantity Product_ID  \\\n",
      "count   1040200     1040200  1040200    1040200  1.040200e+06    1040200   \n",
      "unique  1040200        1778       75         89           NaN         89   \n",
      "top     YG-8782  10-08-2022    ST-30       P-60           NaN       P-60   \n",
      "freq          1         661    14113      11893           NaN      11893   \n",
      "mean        NaN         NaN      NaN        NaN  5.500235e+00        NaN   \n",
      "std         NaN         NaN      NaN        NaN  2.874295e+00        NaN   \n",
      "min         NaN         NaN      NaN        NaN  1.000000e+00        NaN   \n",
      "25%         NaN         NaN      NaN        NaN  3.000000e+00        NaN   \n",
      "50%         NaN         NaN      NaN        NaN  5.000000e+00        NaN   \n",
      "75%         NaN         NaN      NaN        NaN  8.000000e+00        NaN   \n",
      "max         NaN         NaN      NaN        NaN  1.000000e+01        NaN   \n",
      "\n",
      "        Product_Name Category_ID Launch_Date         Price Store_ID  \\\n",
      "count        1040200     1040200     1040200  1.040200e+06  1040200   \n",
      "unique            88          10          88           NaN       75   \n",
      "top     HomePod mini      CAT-10  2023-11-10           NaN    ST-30   \n",
      "freq           23442      163849       23620           NaN    14113   \n",
      "mean             NaN         NaN         NaN  1.077787e+03      NaN   \n",
      "std              NaN         NaN         NaN  4.986517e+02      NaN   \n",
      "min              NaN         NaN         NaN  2.310000e+02      NaN   \n",
      "25%              NaN         NaN         NaN  6.230000e+02      NaN   \n",
      "50%              NaN         NaN         NaN  1.149000e+03      NaN   \n",
      "75%              NaN         NaN         NaN  1.436000e+03      NaN   \n",
      "max              NaN         NaN         NaN  1.965000e+03      NaN   \n",
      "\n",
      "             Store_Name     City        Country category_id category_name  \\\n",
      "count           1040200  1040200        1040200     1040200       1040200   \n",
      "unique               69       47             19          10            10   \n",
      "top     Apple Chadstone    Dubai  United States      CAT-10   Accessories   \n",
      "freq              27851    55619         207728      163849        163849   \n",
      "mean                NaN      NaN            NaN         NaN           NaN   \n",
      "std                 NaN      NaN            NaN         NaN           NaN   \n",
      "min                 NaN      NaN            NaN         NaN           NaN   \n",
      "25%                 NaN      NaN            NaN         NaN           NaN   \n",
      "50%                 NaN      NaN            NaN         NaN           NaN   \n",
      "75%                 NaN      NaN            NaN         NaN           NaN   \n",
      "max                 NaN      NaN            NaN         NaN           NaN   \n",
      "\n",
      "        claim_id  claim_date repair_status  \n",
      "count      30000       30000         30000  \n",
      "unique     30000         317             4  \n",
      "top     CL-58750  2024-04-08   In Progress  \n",
      "freq           1         127          7611  \n",
      "mean         NaN         NaN           NaN  \n",
      "std          NaN         NaN           NaN  \n",
      "min          NaN         NaN           NaN  \n",
      "25%          NaN         NaN           NaN  \n",
      "50%          NaN         NaN           NaN  \n",
      "75%          NaN         NaN           NaN  \n",
      "max          NaN         NaN           NaN  \n",
      "\n",
      "=== Unique Values per Column ===\n",
      "sale_id: 1040200 unique values\n",
      "sale_date: 1778 unique values\n",
      "store_id: 75 unique values\n",
      "product_id: 89 unique values\n",
      "quantity: 10 unique values\n",
      "Product_ID: 89 unique values\n",
      "Product_Name: 88 unique values\n",
      "Category_ID: 10 unique values\n",
      "Launch_Date: 88 unique values\n",
      "Price: 86 unique values\n",
      "Store_ID: 75 unique values\n",
      "Store_Name: 69 unique values\n",
      "City: 47 unique values\n",
      "Country: 19 unique values\n",
      "category_id: 10 unique values\n",
      "category_name: 10 unique values\n",
      "claim_id: 30000 unique values\n",
      "claim_date: 317 unique values\n",
      "repair_status: 4 unique values\n",
      "\n",
      "=== Sample Data ===\n",
      "          sale_id   sale_date store_id product_id  quantity Product_ID  \\\n",
      "538915   EW-74918  21-09-2024    ST-54       P-31         8       P-31   \n",
      "131138  IL-898048  07-03-2020    ST-12       P-55        10       P-55   \n",
      "661212   IO-85922  22-04-2020    ST-29       P-26        10       P-26   \n",
      "171930    PK-8604  21-09-2024    ST-17       P-69        10       P-69   \n",
      "981205    SZ-4486  30-08-2020    ST-39       P-27        10       P-27   \n",
      "\n",
      "                     Product_Name Category_ID Launch_Date  Price Store_ID  \\\n",
      "538915              iPad Pro (M2)       CAT-3  2021-08-25   1826    ST-54   \n",
      "131138                Apple TV HD       CAT-6  2021-11-24   1258    ST-12   \n",
      "661212  iPad Air (5th Generation)       CAT-3  2021-03-06   1591    ST-29   \n",
      "171930                  Apple TV+       CAT-8  2024-11-04    404    ST-17   \n",
      "981205  iPad Air (4th Generation)       CAT-3  2021-04-24    952    ST-39   \n",
      "\n",
      "                         Store_Name     City         Country category_id  \\\n",
      "538915                  Apple Bondi    Bondi       Australia       CAT-3   \n",
      "131138  Apple North Michigan Avenue  Chicago   United States       CAT-6   \n",
      "661212     Apple Galeries Lafayette    Paris          France       CAT-3   \n",
      "171930          Apple Covent Garden   London  United Kingdom       CAT-8   \n",
      "981205             Apple Taipei 101   Taipei          Taiwan       CAT-3   \n",
      "\n",
      "               category_name claim_id claim_date repair_status  \n",
      "538915                Tablet      NaN        NaN           NaN  \n",
      "131138      Streaming Device      NaN        NaN           NaN  \n",
      "661212                Tablet      NaN        NaN           NaN  \n",
      "171930  Subscription Service      NaN        NaN           NaN  \n",
      "981205                Tablet      NaN        NaN           NaN  \n"
     ]
    }
   ],
   "source": [
    "print(\"\\n=== Summary Statistics ===\")\n",
    "print(mf.describe(include='all'))\n",
    "\n",
    "print(\"\\n=== Unique Values per Column ===\")\n",
    "for col in mf.columns:\n",
    "    unique_values = mf[col].nunique()\n",
    "    print(f\"{col}: {unique_values} unique values\")\n",
    "\n",
    "print(\"\\n=== Sample Data ===\")\n",
    "print(mf.sample(5))\n"
   ]
  },
  {
   "cell_type": "code",
   "execution_count": 8,
   "id": "b328834e",
   "metadata": {},
   "outputs": [
    {
     "data": {
      "application/vnd.microsoft.datawrangler.viewer.v0+json": {
       "columns": [
        {
         "name": "index",
         "rawType": "int64",
         "type": "integer"
        },
        {
         "name": "sale_id",
         "rawType": "object",
         "type": "string"
        },
        {
         "name": "sale_date",
         "rawType": "datetime64[ns]",
         "type": "datetime"
        },
        {
         "name": "store_id",
         "rawType": "object",
         "type": "string"
        },
        {
         "name": "product_id",
         "rawType": "object",
         "type": "string"
        },
        {
         "name": "quantity",
         "rawType": "int64",
         "type": "integer"
        },
        {
         "name": "product_name",
         "rawType": "object",
         "type": "string"
        },
        {
         "name": "launch_date",
         "rawType": "datetime64[ns]",
         "type": "datetime"
        },
        {
         "name": "price",
         "rawType": "int64",
         "type": "integer"
        },
        {
         "name": "store_name",
         "rawType": "object",
         "type": "string"
        },
        {
         "name": "city",
         "rawType": "object",
         "type": "string"
        },
        {
         "name": "country",
         "rawType": "object",
         "type": "string"
        },
        {
         "name": "category_id",
         "rawType": "object",
         "type": "string"
        },
        {
         "name": "category_name",
         "rawType": "object",
         "type": "string"
        }
       ],
       "ref": "5f9ffd6b-10f9-4457-aeb3-be5cdc7f430c",
       "rows": [
        [
         "0",
         "YG-8782",
         "2023-06-16 00:00:00",
         "ST-10",
         "P-38",
         "10",
         "iPhone 13 Pro",
         "2021-03-22 00:00:00",
         "308",
         "Apple South Coast Plaza",
         "Costa Mesa",
         "United States",
         "CAT-4",
         "Smartphone"
        ],
        [
         "1",
         "QX-999001",
         "2022-04-13 00:00:00",
         "ST-63",
         "P-48",
         "10",
         "Apple Watch Nike Edition",
         "2020-06-24 00:00:00",
         "884",
         "Apple Parque La Colina",
         "Bogota",
         "Colombia",
         "CAT-5",
         "Wearable"
        ],
        [
         "2",
         "JG-46890",
         "2021-07-05 00:00:00",
         "ST-26",
         "P-79",
         "5",
         "Magic Trackpad",
         "2024-05-25 00:00:00",
         "1242",
         "Apple Leidseplein",
         "Amsterdam",
         "Netherlands",
         "CAT-10",
         "Accessories"
        ],
        [
         "3",
         "XJ-1731",
         "2022-07-20 00:00:00",
         "ST-15",
         "P-24",
         "9",
         "iPad mini (6th Generation)",
         "2022-11-27 00:00:00",
         "573",
         "Apple Downtown Brooklyn",
         "Brooklyn",
         "United States",
         "CAT-3",
         "Tablet"
        ],
        [
         "4",
         "FG-95080",
         "2022-03-18 00:00:00",
         "ST-35",
         "P-69",
         "7",
         "Apple TV+",
         "2024-11-04 00:00:00",
         "404",
         "Apple Shanghai IFC",
         "Shanghai",
         "China",
         "CAT-8",
         "Subscription Service"
        ]
       ],
       "shape": {
        "columns": 13,
        "rows": 5
       }
      },
      "text/html": [
       "<div>\n",
       "<style scoped>\n",
       "    .dataframe tbody tr th:only-of-type {\n",
       "        vertical-align: middle;\n",
       "    }\n",
       "\n",
       "    .dataframe tbody tr th {\n",
       "        vertical-align: top;\n",
       "    }\n",
       "\n",
       "    .dataframe thead th {\n",
       "        text-align: right;\n",
       "    }\n",
       "</style>\n",
       "<table border=\"1\" class=\"dataframe\">\n",
       "  <thead>\n",
       "    <tr style=\"text-align: right;\">\n",
       "      <th></th>\n",
       "      <th>sale_id</th>\n",
       "      <th>sale_date</th>\n",
       "      <th>store_id</th>\n",
       "      <th>product_id</th>\n",
       "      <th>quantity</th>\n",
       "      <th>product_name</th>\n",
       "      <th>launch_date</th>\n",
       "      <th>price</th>\n",
       "      <th>store_name</th>\n",
       "      <th>city</th>\n",
       "      <th>country</th>\n",
       "      <th>category_id</th>\n",
       "      <th>category_name</th>\n",
       "    </tr>\n",
       "  </thead>\n",
       "  <tbody>\n",
       "    <tr>\n",
       "      <th>0</th>\n",
       "      <td>YG-8782</td>\n",
       "      <td>2023-06-16</td>\n",
       "      <td>ST-10</td>\n",
       "      <td>P-38</td>\n",
       "      <td>10</td>\n",
       "      <td>iPhone 13 Pro</td>\n",
       "      <td>2021-03-22</td>\n",
       "      <td>308</td>\n",
       "      <td>Apple South Coast Plaza</td>\n",
       "      <td>Costa Mesa</td>\n",
       "      <td>United States</td>\n",
       "      <td>CAT-4</td>\n",
       "      <td>Smartphone</td>\n",
       "    </tr>\n",
       "    <tr>\n",
       "      <th>1</th>\n",
       "      <td>QX-999001</td>\n",
       "      <td>2022-04-13</td>\n",
       "      <td>ST-63</td>\n",
       "      <td>P-48</td>\n",
       "      <td>10</td>\n",
       "      <td>Apple Watch Nike Edition</td>\n",
       "      <td>2020-06-24</td>\n",
       "      <td>884</td>\n",
       "      <td>Apple Parque La Colina</td>\n",
       "      <td>Bogota</td>\n",
       "      <td>Colombia</td>\n",
       "      <td>CAT-5</td>\n",
       "      <td>Wearable</td>\n",
       "    </tr>\n",
       "    <tr>\n",
       "      <th>2</th>\n",
       "      <td>JG-46890</td>\n",
       "      <td>2021-07-05</td>\n",
       "      <td>ST-26</td>\n",
       "      <td>P-79</td>\n",
       "      <td>5</td>\n",
       "      <td>Magic Trackpad</td>\n",
       "      <td>2024-05-25</td>\n",
       "      <td>1242</td>\n",
       "      <td>Apple Leidseplein</td>\n",
       "      <td>Amsterdam</td>\n",
       "      <td>Netherlands</td>\n",
       "      <td>CAT-10</td>\n",
       "      <td>Accessories</td>\n",
       "    </tr>\n",
       "    <tr>\n",
       "      <th>3</th>\n",
       "      <td>XJ-1731</td>\n",
       "      <td>2022-07-20</td>\n",
       "      <td>ST-15</td>\n",
       "      <td>P-24</td>\n",
       "      <td>9</td>\n",
       "      <td>iPad mini (6th Generation)</td>\n",
       "      <td>2022-11-27</td>\n",
       "      <td>573</td>\n",
       "      <td>Apple Downtown Brooklyn</td>\n",
       "      <td>Brooklyn</td>\n",
       "      <td>United States</td>\n",
       "      <td>CAT-3</td>\n",
       "      <td>Tablet</td>\n",
       "    </tr>\n",
       "    <tr>\n",
       "      <th>4</th>\n",
       "      <td>FG-95080</td>\n",
       "      <td>2022-03-18</td>\n",
       "      <td>ST-35</td>\n",
       "      <td>P-69</td>\n",
       "      <td>7</td>\n",
       "      <td>Apple TV+</td>\n",
       "      <td>2024-11-04</td>\n",
       "      <td>404</td>\n",
       "      <td>Apple Shanghai IFC</td>\n",
       "      <td>Shanghai</td>\n",
       "      <td>China</td>\n",
       "      <td>CAT-8</td>\n",
       "      <td>Subscription Service</td>\n",
       "    </tr>\n",
       "  </tbody>\n",
       "</table>\n",
       "</div>"
      ],
      "text/plain": [
       "     sale_id  sale_date store_id product_id  quantity  \\\n",
       "0    YG-8782 2023-06-16    ST-10       P-38        10   \n",
       "1  QX-999001 2022-04-13    ST-63       P-48        10   \n",
       "2   JG-46890 2021-07-05    ST-26       P-79         5   \n",
       "3    XJ-1731 2022-07-20    ST-15       P-24         9   \n",
       "4   FG-95080 2022-03-18    ST-35       P-69         7   \n",
       "\n",
       "                 product_name launch_date  price               store_name  \\\n",
       "0               iPhone 13 Pro  2021-03-22    308  Apple South Coast Plaza   \n",
       "1    Apple Watch Nike Edition  2020-06-24    884   Apple Parque La Colina   \n",
       "2              Magic Trackpad  2024-05-25   1242        Apple Leidseplein   \n",
       "3  iPad mini (6th Generation)  2022-11-27    573  Apple Downtown Brooklyn   \n",
       "4                   Apple TV+  2024-11-04    404       Apple Shanghai IFC   \n",
       "\n",
       "         city        country category_id         category_name  \n",
       "0  Costa Mesa  United States       CAT-4            Smartphone  \n",
       "1      Bogota       Colombia       CAT-5              Wearable  \n",
       "2   Amsterdam    Netherlands      CAT-10           Accessories  \n",
       "3    Brooklyn  United States       CAT-3                Tablet  \n",
       "4    Shanghai          China       CAT-8  Subscription Service  "
      ]
     },
     "execution_count": 8,
     "metadata": {},
     "output_type": "execute_result"
    }
   ],
   "source": [
    "df = mf.copy()\n",
    "\n",
    "drop_cols = ['Product_ID', 'Category_ID', 'Store_ID', 'claim_id', 'claim_date', 'repair_status']\n",
    "df.drop(columns=[col for col in drop_cols if col in df.columns], inplace=True, errors='ignore')\n",
    "\n",
    "df.columns = df.columns.str.lower().str.strip()\n",
    "\n",
    "df['sale_date'] = pd.to_datetime(df['sale_date'], format=\"%d-%m-%Y\", errors='coerce')\n",
    "df['launch_date'] = pd.to_datetime(df['launch_date'], format=\"%Y-%m-%d\", errors='coerce')\n",
    "df.head()\n"
   ]
  },
  {
   "cell_type": "code",
   "execution_count": 9,
   "id": "c3734afc",
   "metadata": {},
   "outputs": [],
   "source": [
    "df['sales_amount'] = df['quantity'] * df['price']\n",
    "\n",
    "df['product_age_days'] = (df['sale_date'] - df['launch_date']).dt.days\n",
    "df['product_age_days'] = df['product_age_days'].clip(lower=0)\n"
   ]
  },
  {
   "cell_type": "code",
   "execution_count": 10,
   "id": "26fa72ea",
   "metadata": {},
   "outputs": [
    {
     "name": "stdout",
     "output_type": "stream",
     "text": [
      "Total duplicate rows: 0\n",
      "Total duplicate rows: 0\n",
      "Data cleaned successfully!\n",
      "Rows: 1040200, Columns: 15\n"
     ]
    },
    {
     "data": {
      "application/vnd.microsoft.datawrangler.viewer.v0+json": {
       "columns": [
        {
         "name": "index",
         "rawType": "int64",
         "type": "integer"
        },
        {
         "name": "sale_id",
         "rawType": "object",
         "type": "string"
        },
        {
         "name": "sale_date",
         "rawType": "datetime64[ns]",
         "type": "datetime"
        },
        {
         "name": "store_id",
         "rawType": "object",
         "type": "string"
        },
        {
         "name": "product_id",
         "rawType": "object",
         "type": "string"
        },
        {
         "name": "quantity",
         "rawType": "int64",
         "type": "integer"
        },
        {
         "name": "product_name",
         "rawType": "object",
         "type": "string"
        },
        {
         "name": "launch_date",
         "rawType": "datetime64[ns]",
         "type": "datetime"
        },
        {
         "name": "price",
         "rawType": "int64",
         "type": "integer"
        },
        {
         "name": "store_name",
         "rawType": "object",
         "type": "string"
        },
        {
         "name": "city",
         "rawType": "object",
         "type": "string"
        },
        {
         "name": "country",
         "rawType": "object",
         "type": "string"
        },
        {
         "name": "category_id",
         "rawType": "object",
         "type": "string"
        },
        {
         "name": "category_name",
         "rawType": "object",
         "type": "string"
        },
        {
         "name": "sales_amount",
         "rawType": "int64",
         "type": "integer"
        },
        {
         "name": "product_age_days",
         "rawType": "int64",
         "type": "integer"
        }
       ],
       "ref": "652d8a75-7d5e-4505-9383-ee87763ac5f7",
       "rows": [
        [
         "0",
         "YG-8782",
         "2023-06-16 00:00:00",
         "ST-10",
         "P-38",
         "10",
         "iPhone 13 Pro",
         "2021-03-22 00:00:00",
         "308",
         "Apple South Coast Plaza",
         "Costa Mesa",
         "United States",
         "CAT-4",
         "Smartphone",
         "3080",
         "816"
        ],
        [
         "1",
         "QX-999001",
         "2022-04-13 00:00:00",
         "ST-63",
         "P-48",
         "10",
         "Apple Watch Nike Edition",
         "2020-06-24 00:00:00",
         "884",
         "Apple Parque La Colina",
         "Bogota",
         "Colombia",
         "CAT-5",
         "Wearable",
         "8840",
         "658"
        ],
        [
         "2",
         "JG-46890",
         "2021-07-05 00:00:00",
         "ST-26",
         "P-79",
         "5",
         "Magic Trackpad",
         "2024-05-25 00:00:00",
         "1242",
         "Apple Leidseplein",
         "Amsterdam",
         "Netherlands",
         "CAT-10",
         "Accessories",
         "6210",
         "0"
        ],
        [
         "3",
         "XJ-1731",
         "2022-07-20 00:00:00",
         "ST-15",
         "P-24",
         "9",
         "iPad mini (6th Generation)",
         "2022-11-27 00:00:00",
         "573",
         "Apple Downtown Brooklyn",
         "Brooklyn",
         "United States",
         "CAT-3",
         "Tablet",
         "5157",
         "0"
        ],
        [
         "4",
         "FG-95080",
         "2022-03-18 00:00:00",
         "ST-35",
         "P-69",
         "7",
         "Apple TV+",
         "2024-11-04 00:00:00",
         "404",
         "Apple Shanghai IFC",
         "Shanghai",
         "China",
         "CAT-8",
         "Subscription Service",
         "2828",
         "0"
        ]
       ],
       "shape": {
        "columns": 15,
        "rows": 5
       }
      },
      "text/html": [
       "<div>\n",
       "<style scoped>\n",
       "    .dataframe tbody tr th:only-of-type {\n",
       "        vertical-align: middle;\n",
       "    }\n",
       "\n",
       "    .dataframe tbody tr th {\n",
       "        vertical-align: top;\n",
       "    }\n",
       "\n",
       "    .dataframe thead th {\n",
       "        text-align: right;\n",
       "    }\n",
       "</style>\n",
       "<table border=\"1\" class=\"dataframe\">\n",
       "  <thead>\n",
       "    <tr style=\"text-align: right;\">\n",
       "      <th></th>\n",
       "      <th>sale_id</th>\n",
       "      <th>sale_date</th>\n",
       "      <th>store_id</th>\n",
       "      <th>product_id</th>\n",
       "      <th>quantity</th>\n",
       "      <th>product_name</th>\n",
       "      <th>launch_date</th>\n",
       "      <th>price</th>\n",
       "      <th>store_name</th>\n",
       "      <th>city</th>\n",
       "      <th>country</th>\n",
       "      <th>category_id</th>\n",
       "      <th>category_name</th>\n",
       "      <th>sales_amount</th>\n",
       "      <th>product_age_days</th>\n",
       "    </tr>\n",
       "  </thead>\n",
       "  <tbody>\n",
       "    <tr>\n",
       "      <th>0</th>\n",
       "      <td>YG-8782</td>\n",
       "      <td>2023-06-16</td>\n",
       "      <td>ST-10</td>\n",
       "      <td>P-38</td>\n",
       "      <td>10</td>\n",
       "      <td>iPhone 13 Pro</td>\n",
       "      <td>2021-03-22</td>\n",
       "      <td>308</td>\n",
       "      <td>Apple South Coast Plaza</td>\n",
       "      <td>Costa Mesa</td>\n",
       "      <td>United States</td>\n",
       "      <td>CAT-4</td>\n",
       "      <td>Smartphone</td>\n",
       "      <td>3080</td>\n",
       "      <td>816</td>\n",
       "    </tr>\n",
       "    <tr>\n",
       "      <th>1</th>\n",
       "      <td>QX-999001</td>\n",
       "      <td>2022-04-13</td>\n",
       "      <td>ST-63</td>\n",
       "      <td>P-48</td>\n",
       "      <td>10</td>\n",
       "      <td>Apple Watch Nike Edition</td>\n",
       "      <td>2020-06-24</td>\n",
       "      <td>884</td>\n",
       "      <td>Apple Parque La Colina</td>\n",
       "      <td>Bogota</td>\n",
       "      <td>Colombia</td>\n",
       "      <td>CAT-5</td>\n",
       "      <td>Wearable</td>\n",
       "      <td>8840</td>\n",
       "      <td>658</td>\n",
       "    </tr>\n",
       "    <tr>\n",
       "      <th>2</th>\n",
       "      <td>JG-46890</td>\n",
       "      <td>2021-07-05</td>\n",
       "      <td>ST-26</td>\n",
       "      <td>P-79</td>\n",
       "      <td>5</td>\n",
       "      <td>Magic Trackpad</td>\n",
       "      <td>2024-05-25</td>\n",
       "      <td>1242</td>\n",
       "      <td>Apple Leidseplein</td>\n",
       "      <td>Amsterdam</td>\n",
       "      <td>Netherlands</td>\n",
       "      <td>CAT-10</td>\n",
       "      <td>Accessories</td>\n",
       "      <td>6210</td>\n",
       "      <td>0</td>\n",
       "    </tr>\n",
       "    <tr>\n",
       "      <th>3</th>\n",
       "      <td>XJ-1731</td>\n",
       "      <td>2022-07-20</td>\n",
       "      <td>ST-15</td>\n",
       "      <td>P-24</td>\n",
       "      <td>9</td>\n",
       "      <td>iPad mini (6th Generation)</td>\n",
       "      <td>2022-11-27</td>\n",
       "      <td>573</td>\n",
       "      <td>Apple Downtown Brooklyn</td>\n",
       "      <td>Brooklyn</td>\n",
       "      <td>United States</td>\n",
       "      <td>CAT-3</td>\n",
       "      <td>Tablet</td>\n",
       "      <td>5157</td>\n",
       "      <td>0</td>\n",
       "    </tr>\n",
       "    <tr>\n",
       "      <th>4</th>\n",
       "      <td>FG-95080</td>\n",
       "      <td>2022-03-18</td>\n",
       "      <td>ST-35</td>\n",
       "      <td>P-69</td>\n",
       "      <td>7</td>\n",
       "      <td>Apple TV+</td>\n",
       "      <td>2024-11-04</td>\n",
       "      <td>404</td>\n",
       "      <td>Apple Shanghai IFC</td>\n",
       "      <td>Shanghai</td>\n",
       "      <td>China</td>\n",
       "      <td>CAT-8</td>\n",
       "      <td>Subscription Service</td>\n",
       "      <td>2828</td>\n",
       "      <td>0</td>\n",
       "    </tr>\n",
       "  </tbody>\n",
       "</table>\n",
       "</div>"
      ],
      "text/plain": [
       "     sale_id  sale_date store_id product_id  quantity  \\\n",
       "0    YG-8782 2023-06-16    ST-10       P-38        10   \n",
       "1  QX-999001 2022-04-13    ST-63       P-48        10   \n",
       "2   JG-46890 2021-07-05    ST-26       P-79         5   \n",
       "3    XJ-1731 2022-07-20    ST-15       P-24         9   \n",
       "4   FG-95080 2022-03-18    ST-35       P-69         7   \n",
       "\n",
       "                 product_name launch_date  price               store_name  \\\n",
       "0               iPhone 13 Pro  2021-03-22    308  Apple South Coast Plaza   \n",
       "1    Apple Watch Nike Edition  2020-06-24    884   Apple Parque La Colina   \n",
       "2              Magic Trackpad  2024-05-25   1242        Apple Leidseplein   \n",
       "3  iPad mini (6th Generation)  2022-11-27    573  Apple Downtown Brooklyn   \n",
       "4                   Apple TV+  2024-11-04    404       Apple Shanghai IFC   \n",
       "\n",
       "         city        country category_id         category_name  sales_amount  \\\n",
       "0  Costa Mesa  United States       CAT-4            Smartphone          3080   \n",
       "1      Bogota       Colombia       CAT-5              Wearable          8840   \n",
       "2   Amsterdam    Netherlands      CAT-10           Accessories          6210   \n",
       "3    Brooklyn  United States       CAT-3                Tablet          5157   \n",
       "4    Shanghai          China       CAT-8  Subscription Service          2828   \n",
       "\n",
       "   product_age_days  \n",
       "0               816  \n",
       "1               658  \n",
       "2                 0  \n",
       "3                 0  \n",
       "4                 0  "
      ]
     },
     "metadata": {},
     "output_type": "display_data"
    }
   ],
   "source": [
    "print(f\"Total duplicate rows: {df.duplicated().sum()}\")\n",
    "df = df.drop_duplicates().reset_index(drop=True)\n",
    "print(f\"Total duplicate rows: {df.duplicated().sum()}\")\n",
    "\n",
    "print(\"Data cleaned successfully!\")\n",
    "print(f\"Rows: {df.shape[0]}, Columns: {df.shape[1]}\")\n",
    "display(df.head())\n"
   ]
  },
  {
   "cell_type": "code",
   "execution_count": 11,
   "id": "c4bd0503",
   "metadata": {},
   "outputs": [],
   "source": [
    "daily_sales = (\n",
    "    df.groupby('sale_date', as_index=False)['sales_amount']\n",
    "    .sum()\n",
    "    .sort_values('sale_date')\n",
    ")\n"
   ]
  },
  {
   "cell_type": "code",
   "execution_count": 12,
   "id": "6f318dd6",
   "metadata": {},
   "outputs": [],
   "source": [
    "all_days = pd.date_range(\n",
    "    start=daily_sales['sale_date'].min(),\n",
    "    end=daily_sales['sale_date'].max()\n",
    ")\n",
    "daily_sales = (\n",
    "    daily_sales\n",
    "    .set_index('sale_date')\n",
    "    .reindex(all_days, fill_value=0)\n",
    "    .rename_axis('sale_date')\n",
    "    .reset_index()\n",
    ")\n"
   ]
  },
  {
   "cell_type": "code",
   "execution_count": 13,
   "id": "d8f6f2ea",
   "metadata": {},
   "outputs": [
    {
     "data": {
      "application/vnd.microsoft.datawrangler.viewer.v0+json": {
       "columns": [
        {
         "name": "index",
         "rawType": "int64",
         "type": "integer"
        },
        {
         "name": "sale_date",
         "rawType": "datetime64[ns]",
         "type": "datetime"
        },
        {
         "name": "sales_amount",
         "rawType": "int64",
         "type": "integer"
        }
       ],
       "ref": "d3391f67-6e76-4cc8-82a5-2e4807cac552",
       "rows": [
        [
         "0",
         "2020-01-01 00:00:00",
         "3561364"
        ],
        [
         "1",
         "2020-01-02 00:00:00",
         "3086067"
        ],
        [
         "2",
         "2020-01-03 00:00:00",
         "3581790"
        ],
        [
         "3",
         "2020-01-04 00:00:00",
         "3278594"
        ],
        [
         "4",
         "2020-01-05 00:00:00",
         "3736297"
        ],
        [
         "5",
         "2020-01-06 00:00:00",
         "3461383"
        ],
        [
         "6",
         "2020-01-07 00:00:00",
         "3419966"
        ],
        [
         "7",
         "2020-01-08 00:00:00",
         "3669940"
        ],
        [
         "8",
         "2020-01-09 00:00:00",
         "3322243"
        ],
        [
         "9",
         "2020-01-10 00:00:00",
         "3491815"
        ],
        [
         "10",
         "2020-01-11 00:00:00",
         "3293885"
        ],
        [
         "11",
         "2020-01-12 00:00:00",
         "3255341"
        ],
        [
         "12",
         "2020-01-13 00:00:00",
         "3505325"
        ],
        [
         "13",
         "2020-01-14 00:00:00",
         "3163174"
        ],
        [
         "14",
         "2020-01-15 00:00:00",
         "3414172"
        ],
        [
         "15",
         "2020-01-16 00:00:00",
         "3310461"
        ],
        [
         "16",
         "2020-01-17 00:00:00",
         "3633333"
        ],
        [
         "17",
         "2020-01-18 00:00:00",
         "3420562"
        ],
        [
         "18",
         "2020-01-19 00:00:00",
         "3535598"
        ],
        [
         "19",
         "2020-01-20 00:00:00",
         "3663575"
        ],
        [
         "20",
         "2020-01-21 00:00:00",
         "3387940"
        ],
        [
         "21",
         "2020-01-22 00:00:00",
         "3610577"
        ],
        [
         "22",
         "2020-01-23 00:00:00",
         "3451558"
        ],
        [
         "23",
         "2020-01-24 00:00:00",
         "3220600"
        ],
        [
         "24",
         "2020-01-25 00:00:00",
         "3275555"
        ],
        [
         "25",
         "2020-01-26 00:00:00",
         "3554013"
        ],
        [
         "26",
         "2020-01-27 00:00:00",
         "3492976"
        ],
        [
         "27",
         "2020-01-28 00:00:00",
         "3524036"
        ],
        [
         "28",
         "2020-01-29 00:00:00",
         "3308230"
        ],
        [
         "29",
         "2020-01-30 00:00:00",
         "3829858"
        ],
        [
         "30",
         "2020-01-31 00:00:00",
         "3431735"
        ],
        [
         "31",
         "2020-02-01 00:00:00",
         "3558416"
        ],
        [
         "32",
         "2020-02-02 00:00:00",
         "3127176"
        ],
        [
         "33",
         "2020-02-03 00:00:00",
         "3668267"
        ],
        [
         "34",
         "2020-02-04 00:00:00",
         "3384472"
        ],
        [
         "35",
         "2020-02-05 00:00:00",
         "3357481"
        ],
        [
         "36",
         "2020-02-06 00:00:00",
         "3608767"
        ],
        [
         "37",
         "2020-02-07 00:00:00",
         "3434018"
        ],
        [
         "38",
         "2020-02-08 00:00:00",
         "3447954"
        ],
        [
         "39",
         "2020-02-09 00:00:00",
         "3483444"
        ],
        [
         "40",
         "2020-02-10 00:00:00",
         "3664747"
        ],
        [
         "41",
         "2020-02-11 00:00:00",
         "2968146"
        ],
        [
         "42",
         "2020-02-12 00:00:00",
         "3411902"
        ],
        [
         "43",
         "2020-02-13 00:00:00",
         "3284053"
        ],
        [
         "44",
         "2020-02-14 00:00:00",
         "3701053"
        ],
        [
         "45",
         "2020-02-15 00:00:00",
         "3382817"
        ],
        [
         "46",
         "2020-02-16 00:00:00",
         "3444524"
        ],
        [
         "47",
         "2020-02-17 00:00:00",
         "3289237"
        ],
        [
         "48",
         "2020-02-18 00:00:00",
         "3166992"
        ],
        [
         "49",
         "2020-02-19 00:00:00",
         "3220996"
        ]
       ],
       "shape": {
        "columns": 2,
        "rows": 50
       }
      },
      "text/html": [
       "<div>\n",
       "<style scoped>\n",
       "    .dataframe tbody tr th:only-of-type {\n",
       "        vertical-align: middle;\n",
       "    }\n",
       "\n",
       "    .dataframe tbody tr th {\n",
       "        vertical-align: top;\n",
       "    }\n",
       "\n",
       "    .dataframe thead th {\n",
       "        text-align: right;\n",
       "    }\n",
       "</style>\n",
       "<table border=\"1\" class=\"dataframe\">\n",
       "  <thead>\n",
       "    <tr style=\"text-align: right;\">\n",
       "      <th></th>\n",
       "      <th>sale_date</th>\n",
       "      <th>sales_amount</th>\n",
       "    </tr>\n",
       "  </thead>\n",
       "  <tbody>\n",
       "    <tr>\n",
       "      <th>0</th>\n",
       "      <td>2020-01-01</td>\n",
       "      <td>3561364</td>\n",
       "    </tr>\n",
       "    <tr>\n",
       "      <th>1</th>\n",
       "      <td>2020-01-02</td>\n",
       "      <td>3086067</td>\n",
       "    </tr>\n",
       "    <tr>\n",
       "      <th>2</th>\n",
       "      <td>2020-01-03</td>\n",
       "      <td>3581790</td>\n",
       "    </tr>\n",
       "    <tr>\n",
       "      <th>3</th>\n",
       "      <td>2020-01-04</td>\n",
       "      <td>3278594</td>\n",
       "    </tr>\n",
       "    <tr>\n",
       "      <th>4</th>\n",
       "      <td>2020-01-05</td>\n",
       "      <td>3736297</td>\n",
       "    </tr>\n",
       "    <tr>\n",
       "      <th>5</th>\n",
       "      <td>2020-01-06</td>\n",
       "      <td>3461383</td>\n",
       "    </tr>\n",
       "    <tr>\n",
       "      <th>6</th>\n",
       "      <td>2020-01-07</td>\n",
       "      <td>3419966</td>\n",
       "    </tr>\n",
       "    <tr>\n",
       "      <th>7</th>\n",
       "      <td>2020-01-08</td>\n",
       "      <td>3669940</td>\n",
       "    </tr>\n",
       "    <tr>\n",
       "      <th>8</th>\n",
       "      <td>2020-01-09</td>\n",
       "      <td>3322243</td>\n",
       "    </tr>\n",
       "    <tr>\n",
       "      <th>9</th>\n",
       "      <td>2020-01-10</td>\n",
       "      <td>3491815</td>\n",
       "    </tr>\n",
       "    <tr>\n",
       "      <th>10</th>\n",
       "      <td>2020-01-11</td>\n",
       "      <td>3293885</td>\n",
       "    </tr>\n",
       "    <tr>\n",
       "      <th>11</th>\n",
       "      <td>2020-01-12</td>\n",
       "      <td>3255341</td>\n",
       "    </tr>\n",
       "    <tr>\n",
       "      <th>12</th>\n",
       "      <td>2020-01-13</td>\n",
       "      <td>3505325</td>\n",
       "    </tr>\n",
       "    <tr>\n",
       "      <th>13</th>\n",
       "      <td>2020-01-14</td>\n",
       "      <td>3163174</td>\n",
       "    </tr>\n",
       "    <tr>\n",
       "      <th>14</th>\n",
       "      <td>2020-01-15</td>\n",
       "      <td>3414172</td>\n",
       "    </tr>\n",
       "    <tr>\n",
       "      <th>15</th>\n",
       "      <td>2020-01-16</td>\n",
       "      <td>3310461</td>\n",
       "    </tr>\n",
       "    <tr>\n",
       "      <th>16</th>\n",
       "      <td>2020-01-17</td>\n",
       "      <td>3633333</td>\n",
       "    </tr>\n",
       "    <tr>\n",
       "      <th>17</th>\n",
       "      <td>2020-01-18</td>\n",
       "      <td>3420562</td>\n",
       "    </tr>\n",
       "    <tr>\n",
       "      <th>18</th>\n",
       "      <td>2020-01-19</td>\n",
       "      <td>3535598</td>\n",
       "    </tr>\n",
       "    <tr>\n",
       "      <th>19</th>\n",
       "      <td>2020-01-20</td>\n",
       "      <td>3663575</td>\n",
       "    </tr>\n",
       "    <tr>\n",
       "      <th>20</th>\n",
       "      <td>2020-01-21</td>\n",
       "      <td>3387940</td>\n",
       "    </tr>\n",
       "    <tr>\n",
       "      <th>21</th>\n",
       "      <td>2020-01-22</td>\n",
       "      <td>3610577</td>\n",
       "    </tr>\n",
       "    <tr>\n",
       "      <th>22</th>\n",
       "      <td>2020-01-23</td>\n",
       "      <td>3451558</td>\n",
       "    </tr>\n",
       "    <tr>\n",
       "      <th>23</th>\n",
       "      <td>2020-01-24</td>\n",
       "      <td>3220600</td>\n",
       "    </tr>\n",
       "    <tr>\n",
       "      <th>24</th>\n",
       "      <td>2020-01-25</td>\n",
       "      <td>3275555</td>\n",
       "    </tr>\n",
       "    <tr>\n",
       "      <th>25</th>\n",
       "      <td>2020-01-26</td>\n",
       "      <td>3554013</td>\n",
       "    </tr>\n",
       "    <tr>\n",
       "      <th>26</th>\n",
       "      <td>2020-01-27</td>\n",
       "      <td>3492976</td>\n",
       "    </tr>\n",
       "    <tr>\n",
       "      <th>27</th>\n",
       "      <td>2020-01-28</td>\n",
       "      <td>3524036</td>\n",
       "    </tr>\n",
       "    <tr>\n",
       "      <th>28</th>\n",
       "      <td>2020-01-29</td>\n",
       "      <td>3308230</td>\n",
       "    </tr>\n",
       "    <tr>\n",
       "      <th>29</th>\n",
       "      <td>2020-01-30</td>\n",
       "      <td>3829858</td>\n",
       "    </tr>\n",
       "    <tr>\n",
       "      <th>30</th>\n",
       "      <td>2020-01-31</td>\n",
       "      <td>3431735</td>\n",
       "    </tr>\n",
       "    <tr>\n",
       "      <th>31</th>\n",
       "      <td>2020-02-01</td>\n",
       "      <td>3558416</td>\n",
       "    </tr>\n",
       "    <tr>\n",
       "      <th>32</th>\n",
       "      <td>2020-02-02</td>\n",
       "      <td>3127176</td>\n",
       "    </tr>\n",
       "    <tr>\n",
       "      <th>33</th>\n",
       "      <td>2020-02-03</td>\n",
       "      <td>3668267</td>\n",
       "    </tr>\n",
       "    <tr>\n",
       "      <th>34</th>\n",
       "      <td>2020-02-04</td>\n",
       "      <td>3384472</td>\n",
       "    </tr>\n",
       "    <tr>\n",
       "      <th>35</th>\n",
       "      <td>2020-02-05</td>\n",
       "      <td>3357481</td>\n",
       "    </tr>\n",
       "    <tr>\n",
       "      <th>36</th>\n",
       "      <td>2020-02-06</td>\n",
       "      <td>3608767</td>\n",
       "    </tr>\n",
       "    <tr>\n",
       "      <th>37</th>\n",
       "      <td>2020-02-07</td>\n",
       "      <td>3434018</td>\n",
       "    </tr>\n",
       "    <tr>\n",
       "      <th>38</th>\n",
       "      <td>2020-02-08</td>\n",
       "      <td>3447954</td>\n",
       "    </tr>\n",
       "    <tr>\n",
       "      <th>39</th>\n",
       "      <td>2020-02-09</td>\n",
       "      <td>3483444</td>\n",
       "    </tr>\n",
       "    <tr>\n",
       "      <th>40</th>\n",
       "      <td>2020-02-10</td>\n",
       "      <td>3664747</td>\n",
       "    </tr>\n",
       "    <tr>\n",
       "      <th>41</th>\n",
       "      <td>2020-02-11</td>\n",
       "      <td>2968146</td>\n",
       "    </tr>\n",
       "    <tr>\n",
       "      <th>42</th>\n",
       "      <td>2020-02-12</td>\n",
       "      <td>3411902</td>\n",
       "    </tr>\n",
       "    <tr>\n",
       "      <th>43</th>\n",
       "      <td>2020-02-13</td>\n",
       "      <td>3284053</td>\n",
       "    </tr>\n",
       "    <tr>\n",
       "      <th>44</th>\n",
       "      <td>2020-02-14</td>\n",
       "      <td>3701053</td>\n",
       "    </tr>\n",
       "    <tr>\n",
       "      <th>45</th>\n",
       "      <td>2020-02-15</td>\n",
       "      <td>3382817</td>\n",
       "    </tr>\n",
       "    <tr>\n",
       "      <th>46</th>\n",
       "      <td>2020-02-16</td>\n",
       "      <td>3444524</td>\n",
       "    </tr>\n",
       "    <tr>\n",
       "      <th>47</th>\n",
       "      <td>2020-02-17</td>\n",
       "      <td>3289237</td>\n",
       "    </tr>\n",
       "    <tr>\n",
       "      <th>48</th>\n",
       "      <td>2020-02-18</td>\n",
       "      <td>3166992</td>\n",
       "    </tr>\n",
       "    <tr>\n",
       "      <th>49</th>\n",
       "      <td>2020-02-19</td>\n",
       "      <td>3220996</td>\n",
       "    </tr>\n",
       "  </tbody>\n",
       "</table>\n",
       "</div>"
      ],
      "text/plain": [
       "    sale_date  sales_amount\n",
       "0  2020-01-01       3561364\n",
       "1  2020-01-02       3086067\n",
       "2  2020-01-03       3581790\n",
       "3  2020-01-04       3278594\n",
       "4  2020-01-05       3736297\n",
       "5  2020-01-06       3461383\n",
       "6  2020-01-07       3419966\n",
       "7  2020-01-08       3669940\n",
       "8  2020-01-09       3322243\n",
       "9  2020-01-10       3491815\n",
       "10 2020-01-11       3293885\n",
       "11 2020-01-12       3255341\n",
       "12 2020-01-13       3505325\n",
       "13 2020-01-14       3163174\n",
       "14 2020-01-15       3414172\n",
       "15 2020-01-16       3310461\n",
       "16 2020-01-17       3633333\n",
       "17 2020-01-18       3420562\n",
       "18 2020-01-19       3535598\n",
       "19 2020-01-20       3663575\n",
       "20 2020-01-21       3387940\n",
       "21 2020-01-22       3610577\n",
       "22 2020-01-23       3451558\n",
       "23 2020-01-24       3220600\n",
       "24 2020-01-25       3275555\n",
       "25 2020-01-26       3554013\n",
       "26 2020-01-27       3492976\n",
       "27 2020-01-28       3524036\n",
       "28 2020-01-29       3308230\n",
       "29 2020-01-30       3829858\n",
       "30 2020-01-31       3431735\n",
       "31 2020-02-01       3558416\n",
       "32 2020-02-02       3127176\n",
       "33 2020-02-03       3668267\n",
       "34 2020-02-04       3384472\n",
       "35 2020-02-05       3357481\n",
       "36 2020-02-06       3608767\n",
       "37 2020-02-07       3434018\n",
       "38 2020-02-08       3447954\n",
       "39 2020-02-09       3483444\n",
       "40 2020-02-10       3664747\n",
       "41 2020-02-11       2968146\n",
       "42 2020-02-12       3411902\n",
       "43 2020-02-13       3284053\n",
       "44 2020-02-14       3701053\n",
       "45 2020-02-15       3382817\n",
       "46 2020-02-16       3444524\n",
       "47 2020-02-17       3289237\n",
       "48 2020-02-18       3166992\n",
       "49 2020-02-19       3220996"
      ]
     },
     "metadata": {},
     "output_type": "display_data"
    },
    {
     "data": {
      "application/vnd.microsoft.datawrangler.viewer.v0+json": {
       "columns": [
        {
         "name": "index",
         "rawType": "int64",
         "type": "integer"
        },
        {
         "name": "sale_date",
         "rawType": "datetime64[ns]",
         "type": "datetime"
        },
        {
         "name": "sales_amount",
         "rawType": "int64",
         "type": "integer"
        }
       ],
       "ref": "5b9e66b6-0d68-43c0-9df6-00ee7eac68ba",
       "rows": [
        [
         "1728",
         "2024-09-24 00:00:00",
         "3433531"
        ],
        [
         "1729",
         "2024-09-25 00:00:00",
         "3577686"
        ],
        [
         "1730",
         "2024-09-26 00:00:00",
         "3579799"
        ],
        [
         "1731",
         "2024-09-27 00:00:00",
         "3350374"
        ],
        [
         "1732",
         "2024-09-28 00:00:00",
         "3389154"
        ],
        [
         "1733",
         "2024-09-29 00:00:00",
         "3601018"
        ],
        [
         "1734",
         "2024-09-30 00:00:00",
         "3681802"
        ],
        [
         "1735",
         "2024-10-01 00:00:00",
         "3597728"
        ],
        [
         "1736",
         "2024-10-02 00:00:00",
         "3393789"
        ],
        [
         "1737",
         "2024-10-03 00:00:00",
         "3479009"
        ],
        [
         "1738",
         "2024-10-04 00:00:00",
         "3533352"
        ],
        [
         "1739",
         "2024-10-05 00:00:00",
         "3496480"
        ],
        [
         "1740",
         "2024-10-06 00:00:00",
         "3460244"
        ],
        [
         "1741",
         "2024-10-07 00:00:00",
         "3594101"
        ],
        [
         "1742",
         "2024-10-08 00:00:00",
         "3743719"
        ],
        [
         "1743",
         "2024-10-09 00:00:00",
         "3202473"
        ],
        [
         "1744",
         "2024-10-10 00:00:00",
         "3446642"
        ],
        [
         "1745",
         "2024-10-11 00:00:00",
         "3615555"
        ],
        [
         "1746",
         "2024-10-12 00:00:00",
         "3323824"
        ],
        [
         "1747",
         "2024-10-13 00:00:00",
         "3504407"
        ],
        [
         "1748",
         "2024-10-14 00:00:00",
         "3444125"
        ],
        [
         "1749",
         "2024-10-15 00:00:00",
         "3642176"
        ],
        [
         "1750",
         "2024-10-16 00:00:00",
         "3467784"
        ],
        [
         "1751",
         "2024-10-17 00:00:00",
         "3512666"
        ],
        [
         "1752",
         "2024-10-18 00:00:00",
         "3693949"
        ],
        [
         "1753",
         "2024-10-19 00:00:00",
         "3612615"
        ],
        [
         "1754",
         "2024-10-20 00:00:00",
         "3396906"
        ],
        [
         "1755",
         "2024-10-21 00:00:00",
         "3472176"
        ],
        [
         "1756",
         "2024-10-22 00:00:00",
         "3317176"
        ],
        [
         "1757",
         "2024-10-23 00:00:00",
         "3845805"
        ],
        [
         "1758",
         "2024-10-24 00:00:00",
         "3666821"
        ],
        [
         "1759",
         "2024-10-25 00:00:00",
         "3404935"
        ],
        [
         "1760",
         "2024-10-26 00:00:00",
         "3551774"
        ],
        [
         "1761",
         "2024-10-27 00:00:00",
         "3608667"
        ],
        [
         "1762",
         "2024-10-28 00:00:00",
         "3532450"
        ],
        [
         "1763",
         "2024-10-29 00:00:00",
         "3299902"
        ],
        [
         "1764",
         "2024-10-30 00:00:00",
         "3689505"
        ],
        [
         "1765",
         "2024-10-31 00:00:00",
         "3393822"
        ],
        [
         "1766",
         "2024-11-01 00:00:00",
         "3639444"
        ],
        [
         "1767",
         "2024-11-02 00:00:00",
         "3323476"
        ],
        [
         "1768",
         "2024-11-03 00:00:00",
         "3683321"
        ],
        [
         "1769",
         "2024-11-04 00:00:00",
         "3389733"
        ],
        [
         "1770",
         "2024-11-05 00:00:00",
         "3581902"
        ],
        [
         "1771",
         "2024-11-06 00:00:00",
         "3681531"
        ],
        [
         "1772",
         "2024-11-07 00:00:00",
         "3433641"
        ],
        [
         "1773",
         "2024-11-08 00:00:00",
         "3293038"
        ],
        [
         "1774",
         "2024-11-09 00:00:00",
         "3345474"
        ],
        [
         "1775",
         "2024-11-10 00:00:00",
         "3797482"
        ],
        [
         "1776",
         "2024-11-11 00:00:00",
         "3253402"
        ],
        [
         "1777",
         "2024-11-12 00:00:00",
         "3397490"
        ]
       ],
       "shape": {
        "columns": 2,
        "rows": 50
       }
      },
      "text/html": [
       "<div>\n",
       "<style scoped>\n",
       "    .dataframe tbody tr th:only-of-type {\n",
       "        vertical-align: middle;\n",
       "    }\n",
       "\n",
       "    .dataframe tbody tr th {\n",
       "        vertical-align: top;\n",
       "    }\n",
       "\n",
       "    .dataframe thead th {\n",
       "        text-align: right;\n",
       "    }\n",
       "</style>\n",
       "<table border=\"1\" class=\"dataframe\">\n",
       "  <thead>\n",
       "    <tr style=\"text-align: right;\">\n",
       "      <th></th>\n",
       "      <th>sale_date</th>\n",
       "      <th>sales_amount</th>\n",
       "    </tr>\n",
       "  </thead>\n",
       "  <tbody>\n",
       "    <tr>\n",
       "      <th>1728</th>\n",
       "      <td>2024-09-24</td>\n",
       "      <td>3433531</td>\n",
       "    </tr>\n",
       "    <tr>\n",
       "      <th>1729</th>\n",
       "      <td>2024-09-25</td>\n",
       "      <td>3577686</td>\n",
       "    </tr>\n",
       "    <tr>\n",
       "      <th>1730</th>\n",
       "      <td>2024-09-26</td>\n",
       "      <td>3579799</td>\n",
       "    </tr>\n",
       "    <tr>\n",
       "      <th>1731</th>\n",
       "      <td>2024-09-27</td>\n",
       "      <td>3350374</td>\n",
       "    </tr>\n",
       "    <tr>\n",
       "      <th>1732</th>\n",
       "      <td>2024-09-28</td>\n",
       "      <td>3389154</td>\n",
       "    </tr>\n",
       "    <tr>\n",
       "      <th>1733</th>\n",
       "      <td>2024-09-29</td>\n",
       "      <td>3601018</td>\n",
       "    </tr>\n",
       "    <tr>\n",
       "      <th>1734</th>\n",
       "      <td>2024-09-30</td>\n",
       "      <td>3681802</td>\n",
       "    </tr>\n",
       "    <tr>\n",
       "      <th>1735</th>\n",
       "      <td>2024-10-01</td>\n",
       "      <td>3597728</td>\n",
       "    </tr>\n",
       "    <tr>\n",
       "      <th>1736</th>\n",
       "      <td>2024-10-02</td>\n",
       "      <td>3393789</td>\n",
       "    </tr>\n",
       "    <tr>\n",
       "      <th>1737</th>\n",
       "      <td>2024-10-03</td>\n",
       "      <td>3479009</td>\n",
       "    </tr>\n",
       "    <tr>\n",
       "      <th>1738</th>\n",
       "      <td>2024-10-04</td>\n",
       "      <td>3533352</td>\n",
       "    </tr>\n",
       "    <tr>\n",
       "      <th>1739</th>\n",
       "      <td>2024-10-05</td>\n",
       "      <td>3496480</td>\n",
       "    </tr>\n",
       "    <tr>\n",
       "      <th>1740</th>\n",
       "      <td>2024-10-06</td>\n",
       "      <td>3460244</td>\n",
       "    </tr>\n",
       "    <tr>\n",
       "      <th>1741</th>\n",
       "      <td>2024-10-07</td>\n",
       "      <td>3594101</td>\n",
       "    </tr>\n",
       "    <tr>\n",
       "      <th>1742</th>\n",
       "      <td>2024-10-08</td>\n",
       "      <td>3743719</td>\n",
       "    </tr>\n",
       "    <tr>\n",
       "      <th>1743</th>\n",
       "      <td>2024-10-09</td>\n",
       "      <td>3202473</td>\n",
       "    </tr>\n",
       "    <tr>\n",
       "      <th>1744</th>\n",
       "      <td>2024-10-10</td>\n",
       "      <td>3446642</td>\n",
       "    </tr>\n",
       "    <tr>\n",
       "      <th>1745</th>\n",
       "      <td>2024-10-11</td>\n",
       "      <td>3615555</td>\n",
       "    </tr>\n",
       "    <tr>\n",
       "      <th>1746</th>\n",
       "      <td>2024-10-12</td>\n",
       "      <td>3323824</td>\n",
       "    </tr>\n",
       "    <tr>\n",
       "      <th>1747</th>\n",
       "      <td>2024-10-13</td>\n",
       "      <td>3504407</td>\n",
       "    </tr>\n",
       "    <tr>\n",
       "      <th>1748</th>\n",
       "      <td>2024-10-14</td>\n",
       "      <td>3444125</td>\n",
       "    </tr>\n",
       "    <tr>\n",
       "      <th>1749</th>\n",
       "      <td>2024-10-15</td>\n",
       "      <td>3642176</td>\n",
       "    </tr>\n",
       "    <tr>\n",
       "      <th>1750</th>\n",
       "      <td>2024-10-16</td>\n",
       "      <td>3467784</td>\n",
       "    </tr>\n",
       "    <tr>\n",
       "      <th>1751</th>\n",
       "      <td>2024-10-17</td>\n",
       "      <td>3512666</td>\n",
       "    </tr>\n",
       "    <tr>\n",
       "      <th>1752</th>\n",
       "      <td>2024-10-18</td>\n",
       "      <td>3693949</td>\n",
       "    </tr>\n",
       "    <tr>\n",
       "      <th>1753</th>\n",
       "      <td>2024-10-19</td>\n",
       "      <td>3612615</td>\n",
       "    </tr>\n",
       "    <tr>\n",
       "      <th>1754</th>\n",
       "      <td>2024-10-20</td>\n",
       "      <td>3396906</td>\n",
       "    </tr>\n",
       "    <tr>\n",
       "      <th>1755</th>\n",
       "      <td>2024-10-21</td>\n",
       "      <td>3472176</td>\n",
       "    </tr>\n",
       "    <tr>\n",
       "      <th>1756</th>\n",
       "      <td>2024-10-22</td>\n",
       "      <td>3317176</td>\n",
       "    </tr>\n",
       "    <tr>\n",
       "      <th>1757</th>\n",
       "      <td>2024-10-23</td>\n",
       "      <td>3845805</td>\n",
       "    </tr>\n",
       "    <tr>\n",
       "      <th>1758</th>\n",
       "      <td>2024-10-24</td>\n",
       "      <td>3666821</td>\n",
       "    </tr>\n",
       "    <tr>\n",
       "      <th>1759</th>\n",
       "      <td>2024-10-25</td>\n",
       "      <td>3404935</td>\n",
       "    </tr>\n",
       "    <tr>\n",
       "      <th>1760</th>\n",
       "      <td>2024-10-26</td>\n",
       "      <td>3551774</td>\n",
       "    </tr>\n",
       "    <tr>\n",
       "      <th>1761</th>\n",
       "      <td>2024-10-27</td>\n",
       "      <td>3608667</td>\n",
       "    </tr>\n",
       "    <tr>\n",
       "      <th>1762</th>\n",
       "      <td>2024-10-28</td>\n",
       "      <td>3532450</td>\n",
       "    </tr>\n",
       "    <tr>\n",
       "      <th>1763</th>\n",
       "      <td>2024-10-29</td>\n",
       "      <td>3299902</td>\n",
       "    </tr>\n",
       "    <tr>\n",
       "      <th>1764</th>\n",
       "      <td>2024-10-30</td>\n",
       "      <td>3689505</td>\n",
       "    </tr>\n",
       "    <tr>\n",
       "      <th>1765</th>\n",
       "      <td>2024-10-31</td>\n",
       "      <td>3393822</td>\n",
       "    </tr>\n",
       "    <tr>\n",
       "      <th>1766</th>\n",
       "      <td>2024-11-01</td>\n",
       "      <td>3639444</td>\n",
       "    </tr>\n",
       "    <tr>\n",
       "      <th>1767</th>\n",
       "      <td>2024-11-02</td>\n",
       "      <td>3323476</td>\n",
       "    </tr>\n",
       "    <tr>\n",
       "      <th>1768</th>\n",
       "      <td>2024-11-03</td>\n",
       "      <td>3683321</td>\n",
       "    </tr>\n",
       "    <tr>\n",
       "      <th>1769</th>\n",
       "      <td>2024-11-04</td>\n",
       "      <td>3389733</td>\n",
       "    </tr>\n",
       "    <tr>\n",
       "      <th>1770</th>\n",
       "      <td>2024-11-05</td>\n",
       "      <td>3581902</td>\n",
       "    </tr>\n",
       "    <tr>\n",
       "      <th>1771</th>\n",
       "      <td>2024-11-06</td>\n",
       "      <td>3681531</td>\n",
       "    </tr>\n",
       "    <tr>\n",
       "      <th>1772</th>\n",
       "      <td>2024-11-07</td>\n",
       "      <td>3433641</td>\n",
       "    </tr>\n",
       "    <tr>\n",
       "      <th>1773</th>\n",
       "      <td>2024-11-08</td>\n",
       "      <td>3293038</td>\n",
       "    </tr>\n",
       "    <tr>\n",
       "      <th>1774</th>\n",
       "      <td>2024-11-09</td>\n",
       "      <td>3345474</td>\n",
       "    </tr>\n",
       "    <tr>\n",
       "      <th>1775</th>\n",
       "      <td>2024-11-10</td>\n",
       "      <td>3797482</td>\n",
       "    </tr>\n",
       "    <tr>\n",
       "      <th>1776</th>\n",
       "      <td>2024-11-11</td>\n",
       "      <td>3253402</td>\n",
       "    </tr>\n",
       "    <tr>\n",
       "      <th>1777</th>\n",
       "      <td>2024-11-12</td>\n",
       "      <td>3397490</td>\n",
       "    </tr>\n",
       "  </tbody>\n",
       "</table>\n",
       "</div>"
      ],
      "text/plain": [
       "      sale_date  sales_amount\n",
       "1728 2024-09-24       3433531\n",
       "1729 2024-09-25       3577686\n",
       "1730 2024-09-26       3579799\n",
       "1731 2024-09-27       3350374\n",
       "1732 2024-09-28       3389154\n",
       "1733 2024-09-29       3601018\n",
       "1734 2024-09-30       3681802\n",
       "1735 2024-10-01       3597728\n",
       "1736 2024-10-02       3393789\n",
       "1737 2024-10-03       3479009\n",
       "1738 2024-10-04       3533352\n",
       "1739 2024-10-05       3496480\n",
       "1740 2024-10-06       3460244\n",
       "1741 2024-10-07       3594101\n",
       "1742 2024-10-08       3743719\n",
       "1743 2024-10-09       3202473\n",
       "1744 2024-10-10       3446642\n",
       "1745 2024-10-11       3615555\n",
       "1746 2024-10-12       3323824\n",
       "1747 2024-10-13       3504407\n",
       "1748 2024-10-14       3444125\n",
       "1749 2024-10-15       3642176\n",
       "1750 2024-10-16       3467784\n",
       "1751 2024-10-17       3512666\n",
       "1752 2024-10-18       3693949\n",
       "1753 2024-10-19       3612615\n",
       "1754 2024-10-20       3396906\n",
       "1755 2024-10-21       3472176\n",
       "1756 2024-10-22       3317176\n",
       "1757 2024-10-23       3845805\n",
       "1758 2024-10-24       3666821\n",
       "1759 2024-10-25       3404935\n",
       "1760 2024-10-26       3551774\n",
       "1761 2024-10-27       3608667\n",
       "1762 2024-10-28       3532450\n",
       "1763 2024-10-29       3299902\n",
       "1764 2024-10-30       3689505\n",
       "1765 2024-10-31       3393822\n",
       "1766 2024-11-01       3639444\n",
       "1767 2024-11-02       3323476\n",
       "1768 2024-11-03       3683321\n",
       "1769 2024-11-04       3389733\n",
       "1770 2024-11-05       3581902\n",
       "1771 2024-11-06       3681531\n",
       "1772 2024-11-07       3433641\n",
       "1773 2024-11-08       3293038\n",
       "1774 2024-11-09       3345474\n",
       "1775 2024-11-10       3797482\n",
       "1776 2024-11-11       3253402\n",
       "1777 2024-11-12       3397490"
      ]
     },
     "metadata": {},
     "output_type": "display_data"
    }
   ],
   "source": [
    "display(daily_sales.head(50))\n",
    "display(daily_sales.tail(50))\n"
   ]
  },
  {
   "cell_type": "code",
   "execution_count": 14,
   "id": "b4f0a609",
   "metadata": {},
   "outputs": [
    {
     "data": {
      "application/vnd.microsoft.datawrangler.viewer.v0+json": {
       "columns": [
        {
         "name": "index",
         "rawType": "int64",
         "type": "integer"
        },
        {
         "name": "sale_id",
         "rawType": "object",
         "type": "string"
        },
        {
         "name": "sale_date",
         "rawType": "datetime64[ns]",
         "type": "datetime"
        },
        {
         "name": "store_id",
         "rawType": "object",
         "type": "string"
        },
        {
         "name": "product_id",
         "rawType": "object",
         "type": "string"
        },
        {
         "name": "quantity",
         "rawType": "int64",
         "type": "integer"
        },
        {
         "name": "product_name",
         "rawType": "object",
         "type": "string"
        },
        {
         "name": "launch_date",
         "rawType": "datetime64[ns]",
         "type": "datetime"
        },
        {
         "name": "price",
         "rawType": "int64",
         "type": "integer"
        },
        {
         "name": "store_name",
         "rawType": "object",
         "type": "string"
        },
        {
         "name": "city",
         "rawType": "object",
         "type": "string"
        },
        {
         "name": "country",
         "rawType": "object",
         "type": "string"
        },
        {
         "name": "category_id",
         "rawType": "object",
         "type": "string"
        },
        {
         "name": "category_name",
         "rawType": "object",
         "type": "string"
        },
        {
         "name": "sales_amount",
         "rawType": "int64",
         "type": "integer"
        },
        {
         "name": "product_age_days",
         "rawType": "int64",
         "type": "integer"
        }
       ],
       "ref": "7b41043b-18ea-4a1a-bfc1-ff242ae68378",
       "rows": [
        [
         "0",
         "RW-18212",
         "2020-01-01 00:00:00",
         "ST-41",
         "P-73",
         "2",
         "Apple One",
         "2020-05-02 00:00:00",
         "488",
         "Apple Central World",
         "Bangkok",
         "Thailand",
         "CAT-8",
         "Subscription Service",
         "976",
         "0"
        ],
        [
         "1",
         "RX-6848",
         "2020-01-01 00:00:00",
         "ST-31",
         "P-40",
         "7",
         "iPhone SE (3rd Generation)",
         "2022-11-10 00:00:00",
         "923",
         "Apple Shinjuku",
         "Tokyo",
         "Japan",
         "CAT-4",
         "Smartphone",
         "6461",
         "0"
        ],
        [
         "2",
         "SV-39198",
         "2020-01-01 00:00:00",
         "ST-9",
         "P-73",
         "7",
         "Apple One",
         "2020-05-02 00:00:00",
         "488",
         "Apple Park Visitor Center",
         "Cupertino",
         "United States",
         "CAT-8",
         "Subscription Service",
         "3416",
         "0"
        ],
        [
         "3",
         "ZI-218670",
         "2020-01-01 00:00:00",
         "ST-20",
         "P-70",
         "1",
         "Apple Fitness+",
         "2021-05-06 00:00:00",
         "923",
         "Apple Kaerntner Strasse",
         "Vienna",
         "Austria",
         "CAT-8",
         "Subscription Service",
         "923",
         "0"
        ],
        [
         "4",
         "VB-48589",
         "2020-01-01 00:00:00",
         "ST-60",
         "P-18",
         "9",
         "Beats Solo Pro",
         "2024-02-26 00:00:00",
         "1773",
         "Apple Antara",
         "Mexico City",
         "Mexico",
         "CAT-2",
         "Audio",
         "15957",
         "0"
        ]
       ],
       "shape": {
        "columns": 15,
        "rows": 5
       }
      },
      "text/html": [
       "<div>\n",
       "<style scoped>\n",
       "    .dataframe tbody tr th:only-of-type {\n",
       "        vertical-align: middle;\n",
       "    }\n",
       "\n",
       "    .dataframe tbody tr th {\n",
       "        vertical-align: top;\n",
       "    }\n",
       "\n",
       "    .dataframe thead th {\n",
       "        text-align: right;\n",
       "    }\n",
       "</style>\n",
       "<table border=\"1\" class=\"dataframe\">\n",
       "  <thead>\n",
       "    <tr style=\"text-align: right;\">\n",
       "      <th></th>\n",
       "      <th>sale_id</th>\n",
       "      <th>sale_date</th>\n",
       "      <th>store_id</th>\n",
       "      <th>product_id</th>\n",
       "      <th>quantity</th>\n",
       "      <th>product_name</th>\n",
       "      <th>launch_date</th>\n",
       "      <th>price</th>\n",
       "      <th>store_name</th>\n",
       "      <th>city</th>\n",
       "      <th>country</th>\n",
       "      <th>category_id</th>\n",
       "      <th>category_name</th>\n",
       "      <th>sales_amount</th>\n",
       "      <th>product_age_days</th>\n",
       "    </tr>\n",
       "  </thead>\n",
       "  <tbody>\n",
       "    <tr>\n",
       "      <th>0</th>\n",
       "      <td>RW-18212</td>\n",
       "      <td>2020-01-01</td>\n",
       "      <td>ST-41</td>\n",
       "      <td>P-73</td>\n",
       "      <td>2</td>\n",
       "      <td>Apple One</td>\n",
       "      <td>2020-05-02</td>\n",
       "      <td>488</td>\n",
       "      <td>Apple Central World</td>\n",
       "      <td>Bangkok</td>\n",
       "      <td>Thailand</td>\n",
       "      <td>CAT-8</td>\n",
       "      <td>Subscription Service</td>\n",
       "      <td>976</td>\n",
       "      <td>0</td>\n",
       "    </tr>\n",
       "    <tr>\n",
       "      <th>1</th>\n",
       "      <td>RX-6848</td>\n",
       "      <td>2020-01-01</td>\n",
       "      <td>ST-31</td>\n",
       "      <td>P-40</td>\n",
       "      <td>7</td>\n",
       "      <td>iPhone SE (3rd Generation)</td>\n",
       "      <td>2022-11-10</td>\n",
       "      <td>923</td>\n",
       "      <td>Apple Shinjuku</td>\n",
       "      <td>Tokyo</td>\n",
       "      <td>Japan</td>\n",
       "      <td>CAT-4</td>\n",
       "      <td>Smartphone</td>\n",
       "      <td>6461</td>\n",
       "      <td>0</td>\n",
       "    </tr>\n",
       "    <tr>\n",
       "      <th>2</th>\n",
       "      <td>SV-39198</td>\n",
       "      <td>2020-01-01</td>\n",
       "      <td>ST-9</td>\n",
       "      <td>P-73</td>\n",
       "      <td>7</td>\n",
       "      <td>Apple One</td>\n",
       "      <td>2020-05-02</td>\n",
       "      <td>488</td>\n",
       "      <td>Apple Park Visitor Center</td>\n",
       "      <td>Cupertino</td>\n",
       "      <td>United States</td>\n",
       "      <td>CAT-8</td>\n",
       "      <td>Subscription Service</td>\n",
       "      <td>3416</td>\n",
       "      <td>0</td>\n",
       "    </tr>\n",
       "    <tr>\n",
       "      <th>3</th>\n",
       "      <td>ZI-218670</td>\n",
       "      <td>2020-01-01</td>\n",
       "      <td>ST-20</td>\n",
       "      <td>P-70</td>\n",
       "      <td>1</td>\n",
       "      <td>Apple Fitness+</td>\n",
       "      <td>2021-05-06</td>\n",
       "      <td>923</td>\n",
       "      <td>Apple Kaerntner Strasse</td>\n",
       "      <td>Vienna</td>\n",
       "      <td>Austria</td>\n",
       "      <td>CAT-8</td>\n",
       "      <td>Subscription Service</td>\n",
       "      <td>923</td>\n",
       "      <td>0</td>\n",
       "    </tr>\n",
       "    <tr>\n",
       "      <th>4</th>\n",
       "      <td>VB-48589</td>\n",
       "      <td>2020-01-01</td>\n",
       "      <td>ST-60</td>\n",
       "      <td>P-18</td>\n",
       "      <td>9</td>\n",
       "      <td>Beats Solo Pro</td>\n",
       "      <td>2024-02-26</td>\n",
       "      <td>1773</td>\n",
       "      <td>Apple Antara</td>\n",
       "      <td>Mexico City</td>\n",
       "      <td>Mexico</td>\n",
       "      <td>CAT-2</td>\n",
       "      <td>Audio</td>\n",
       "      <td>15957</td>\n",
       "      <td>0</td>\n",
       "    </tr>\n",
       "  </tbody>\n",
       "</table>\n",
       "</div>"
      ],
      "text/plain": [
       "     sale_id  sale_date store_id product_id  quantity  \\\n",
       "0   RW-18212 2020-01-01    ST-41       P-73         2   \n",
       "1    RX-6848 2020-01-01    ST-31       P-40         7   \n",
       "2   SV-39198 2020-01-01     ST-9       P-73         7   \n",
       "3  ZI-218670 2020-01-01    ST-20       P-70         1   \n",
       "4   VB-48589 2020-01-01    ST-60       P-18         9   \n",
       "\n",
       "                 product_name launch_date  price                 store_name  \\\n",
       "0                   Apple One  2020-05-02    488        Apple Central World   \n",
       "1  iPhone SE (3rd Generation)  2022-11-10    923             Apple Shinjuku   \n",
       "2                   Apple One  2020-05-02    488  Apple Park Visitor Center   \n",
       "3              Apple Fitness+  2021-05-06    923    Apple Kaerntner Strasse   \n",
       "4              Beats Solo Pro  2024-02-26   1773               Apple Antara   \n",
       "\n",
       "          city        country category_id         category_name  sales_amount  \\\n",
       "0      Bangkok       Thailand       CAT-8  Subscription Service           976   \n",
       "1        Tokyo          Japan       CAT-4            Smartphone          6461   \n",
       "2    Cupertino  United States       CAT-8  Subscription Service          3416   \n",
       "3       Vienna        Austria       CAT-8  Subscription Service           923   \n",
       "4  Mexico City         Mexico       CAT-2                 Audio         15957   \n",
       "\n",
       "   product_age_days  \n",
       "0                 0  \n",
       "1                 0  \n",
       "2                 0  \n",
       "3                 0  \n",
       "4                 0  "
      ]
     },
     "execution_count": 14,
     "metadata": {},
     "output_type": "execute_result"
    }
   ],
   "source": [
    "df = df.sort_values(by='sale_date', ascending=True).reset_index(drop=True)\n",
    "df.head()\n"
   ]
  },
  {
   "cell_type": "code",
   "execution_count": 15,
   "id": "3557df14",
   "metadata": {},
   "outputs": [
    {
     "name": "stdout",
     "output_type": "stream",
     "text": [
      " No missing values found in the dataset.\n"
     ]
    }
   ],
   "source": [
    "missing_values = df.isnull().sum()\n",
    "\n",
    "\n",
    "missing_percentage = (missing_values / len(df)) * 100\n",
    "\n",
    "\n",
    "missing_report = pd.DataFrame({\n",
    "    'Missing Values': missing_values,\n",
    "    'Percentage (%)': missing_percentage\n",
    "})\n",
    "\n",
    "\n",
    "missing_report = missing_report[missing_report['Missing Values'] > 0].sort_values(by='Missing Values', ascending=False)\n",
    "\n",
    "\n",
    "if missing_report.empty:\n",
    "    print(\" No missing values found in the dataset.\")\n",
    "else:\n",
    "    print(\" Missing values detected:\")\n",
    "    display(missing_report)\n"
   ]
  },
  {
   "cell_type": "code",
   "execution_count": 16,
   "id": "7a7fc19d",
   "metadata": {},
   "outputs": [
    {
     "name": "stdout",
     "output_type": "stream",
     "text": [
      "Data cleaned successfully!\n",
      "Rows: 1040200, Columns: 15\n"
     ]
    },
    {
     "data": {
      "application/vnd.microsoft.datawrangler.viewer.v0+json": {
       "columns": [
        {
         "name": "index",
         "rawType": "int64",
         "type": "integer"
        },
        {
         "name": "sale_id",
         "rawType": "object",
         "type": "string"
        },
        {
         "name": "sale_date",
         "rawType": "datetime64[ns]",
         "type": "datetime"
        },
        {
         "name": "store_id",
         "rawType": "object",
         "type": "string"
        },
        {
         "name": "product_id",
         "rawType": "object",
         "type": "string"
        },
        {
         "name": "quantity",
         "rawType": "int64",
         "type": "integer"
        },
        {
         "name": "product_name",
         "rawType": "object",
         "type": "string"
        },
        {
         "name": "launch_date",
         "rawType": "datetime64[ns]",
         "type": "datetime"
        },
        {
         "name": "price",
         "rawType": "int64",
         "type": "integer"
        },
        {
         "name": "store_name",
         "rawType": "object",
         "type": "string"
        },
        {
         "name": "city",
         "rawType": "object",
         "type": "string"
        },
        {
         "name": "country",
         "rawType": "object",
         "type": "string"
        },
        {
         "name": "category_id",
         "rawType": "object",
         "type": "string"
        },
        {
         "name": "category_name",
         "rawType": "object",
         "type": "string"
        },
        {
         "name": "sales_amount",
         "rawType": "int64",
         "type": "integer"
        },
        {
         "name": "product_age_days",
         "rawType": "int64",
         "type": "integer"
        }
       ],
       "ref": "606cc094-5a76-49af-89f1-d4cbe339bd68",
       "rows": [
        [
         "0",
         "RW-18212",
         "2020-01-01 00:00:00",
         "ST-41",
         "P-73",
         "2",
         "Apple One",
         "2020-05-02 00:00:00",
         "488",
         "Apple Central World",
         "Bangkok",
         "Thailand",
         "CAT-8",
         "Subscription Service",
         "976",
         "0"
        ],
        [
         "1",
         "RX-6848",
         "2020-01-01 00:00:00",
         "ST-31",
         "P-40",
         "7",
         "iPhone SE (3rd Generation)",
         "2022-11-10 00:00:00",
         "923",
         "Apple Shinjuku",
         "Tokyo",
         "Japan",
         "CAT-4",
         "Smartphone",
         "6461",
         "0"
        ],
        [
         "2",
         "SV-39198",
         "2020-01-01 00:00:00",
         "ST-9",
         "P-73",
         "7",
         "Apple One",
         "2020-05-02 00:00:00",
         "488",
         "Apple Park Visitor Center",
         "Cupertino",
         "United States",
         "CAT-8",
         "Subscription Service",
         "3416",
         "0"
        ],
        [
         "3",
         "ZI-218670",
         "2020-01-01 00:00:00",
         "ST-20",
         "P-70",
         "1",
         "Apple Fitness+",
         "2021-05-06 00:00:00",
         "923",
         "Apple Kaerntner Strasse",
         "Vienna",
         "Austria",
         "CAT-8",
         "Subscription Service",
         "923",
         "0"
        ],
        [
         "4",
         "VB-48589",
         "2020-01-01 00:00:00",
         "ST-60",
         "P-18",
         "9",
         "Beats Solo Pro",
         "2024-02-26 00:00:00",
         "1773",
         "Apple Antara",
         "Mexico City",
         "Mexico",
         "CAT-2",
         "Audio",
         "15957",
         "0"
        ]
       ],
       "shape": {
        "columns": 15,
        "rows": 5
       }
      },
      "text/html": [
       "<div>\n",
       "<style scoped>\n",
       "    .dataframe tbody tr th:only-of-type {\n",
       "        vertical-align: middle;\n",
       "    }\n",
       "\n",
       "    .dataframe tbody tr th {\n",
       "        vertical-align: top;\n",
       "    }\n",
       "\n",
       "    .dataframe thead th {\n",
       "        text-align: right;\n",
       "    }\n",
       "</style>\n",
       "<table border=\"1\" class=\"dataframe\">\n",
       "  <thead>\n",
       "    <tr style=\"text-align: right;\">\n",
       "      <th></th>\n",
       "      <th>sale_id</th>\n",
       "      <th>sale_date</th>\n",
       "      <th>store_id</th>\n",
       "      <th>product_id</th>\n",
       "      <th>quantity</th>\n",
       "      <th>product_name</th>\n",
       "      <th>launch_date</th>\n",
       "      <th>price</th>\n",
       "      <th>store_name</th>\n",
       "      <th>city</th>\n",
       "      <th>country</th>\n",
       "      <th>category_id</th>\n",
       "      <th>category_name</th>\n",
       "      <th>sales_amount</th>\n",
       "      <th>product_age_days</th>\n",
       "    </tr>\n",
       "  </thead>\n",
       "  <tbody>\n",
       "    <tr>\n",
       "      <th>0</th>\n",
       "      <td>RW-18212</td>\n",
       "      <td>2020-01-01</td>\n",
       "      <td>ST-41</td>\n",
       "      <td>P-73</td>\n",
       "      <td>2</td>\n",
       "      <td>Apple One</td>\n",
       "      <td>2020-05-02</td>\n",
       "      <td>488</td>\n",
       "      <td>Apple Central World</td>\n",
       "      <td>Bangkok</td>\n",
       "      <td>Thailand</td>\n",
       "      <td>CAT-8</td>\n",
       "      <td>Subscription Service</td>\n",
       "      <td>976</td>\n",
       "      <td>0</td>\n",
       "    </tr>\n",
       "    <tr>\n",
       "      <th>1</th>\n",
       "      <td>RX-6848</td>\n",
       "      <td>2020-01-01</td>\n",
       "      <td>ST-31</td>\n",
       "      <td>P-40</td>\n",
       "      <td>7</td>\n",
       "      <td>iPhone SE (3rd Generation)</td>\n",
       "      <td>2022-11-10</td>\n",
       "      <td>923</td>\n",
       "      <td>Apple Shinjuku</td>\n",
       "      <td>Tokyo</td>\n",
       "      <td>Japan</td>\n",
       "      <td>CAT-4</td>\n",
       "      <td>Smartphone</td>\n",
       "      <td>6461</td>\n",
       "      <td>0</td>\n",
       "    </tr>\n",
       "    <tr>\n",
       "      <th>2</th>\n",
       "      <td>SV-39198</td>\n",
       "      <td>2020-01-01</td>\n",
       "      <td>ST-9</td>\n",
       "      <td>P-73</td>\n",
       "      <td>7</td>\n",
       "      <td>Apple One</td>\n",
       "      <td>2020-05-02</td>\n",
       "      <td>488</td>\n",
       "      <td>Apple Park Visitor Center</td>\n",
       "      <td>Cupertino</td>\n",
       "      <td>United States</td>\n",
       "      <td>CAT-8</td>\n",
       "      <td>Subscription Service</td>\n",
       "      <td>3416</td>\n",
       "      <td>0</td>\n",
       "    </tr>\n",
       "    <tr>\n",
       "      <th>3</th>\n",
       "      <td>ZI-218670</td>\n",
       "      <td>2020-01-01</td>\n",
       "      <td>ST-20</td>\n",
       "      <td>P-70</td>\n",
       "      <td>1</td>\n",
       "      <td>Apple Fitness+</td>\n",
       "      <td>2021-05-06</td>\n",
       "      <td>923</td>\n",
       "      <td>Apple Kaerntner Strasse</td>\n",
       "      <td>Vienna</td>\n",
       "      <td>Austria</td>\n",
       "      <td>CAT-8</td>\n",
       "      <td>Subscription Service</td>\n",
       "      <td>923</td>\n",
       "      <td>0</td>\n",
       "    </tr>\n",
       "    <tr>\n",
       "      <th>4</th>\n",
       "      <td>VB-48589</td>\n",
       "      <td>2020-01-01</td>\n",
       "      <td>ST-60</td>\n",
       "      <td>P-18</td>\n",
       "      <td>9</td>\n",
       "      <td>Beats Solo Pro</td>\n",
       "      <td>2024-02-26</td>\n",
       "      <td>1773</td>\n",
       "      <td>Apple Antara</td>\n",
       "      <td>Mexico City</td>\n",
       "      <td>Mexico</td>\n",
       "      <td>CAT-2</td>\n",
       "      <td>Audio</td>\n",
       "      <td>15957</td>\n",
       "      <td>0</td>\n",
       "    </tr>\n",
       "  </tbody>\n",
       "</table>\n",
       "</div>"
      ],
      "text/plain": [
       "     sale_id  sale_date store_id product_id  quantity  \\\n",
       "0   RW-18212 2020-01-01    ST-41       P-73         2   \n",
       "1    RX-6848 2020-01-01    ST-31       P-40         7   \n",
       "2   SV-39198 2020-01-01     ST-9       P-73         7   \n",
       "3  ZI-218670 2020-01-01    ST-20       P-70         1   \n",
       "4   VB-48589 2020-01-01    ST-60       P-18         9   \n",
       "\n",
       "                 product_name launch_date  price                 store_name  \\\n",
       "0                   Apple One  2020-05-02    488        Apple Central World   \n",
       "1  iPhone SE (3rd Generation)  2022-11-10    923             Apple Shinjuku   \n",
       "2                   Apple One  2020-05-02    488  Apple Park Visitor Center   \n",
       "3              Apple Fitness+  2021-05-06    923    Apple Kaerntner Strasse   \n",
       "4              Beats Solo Pro  2024-02-26   1773               Apple Antara   \n",
       "\n",
       "          city        country category_id         category_name  sales_amount  \\\n",
       "0      Bangkok       Thailand       CAT-8  Subscription Service           976   \n",
       "1        Tokyo          Japan       CAT-4            Smartphone          6461   \n",
       "2    Cupertino  United States       CAT-8  Subscription Service          3416   \n",
       "3       Vienna        Austria       CAT-8  Subscription Service           923   \n",
       "4  Mexico City         Mexico       CAT-2                 Audio         15957   \n",
       "\n",
       "   product_age_days  \n",
       "0                 0  \n",
       "1                 0  \n",
       "2                 0  \n",
       "3                 0  \n",
       "4                 0  "
      ]
     },
     "metadata": {},
     "output_type": "display_data"
    }
   ],
   "source": [
    "print(\"Data cleaned successfully!\")\n",
    "print(f\"Rows: {df.shape[0]}, Columns: {df.shape[1]}\")\n",
    "display(df.head())"
   ]
  },
  {
   "cell_type": "code",
   "execution_count": 17,
   "id": "a00f8c52",
   "metadata": {},
   "outputs": [
    {
     "data": {
      "application/vnd.microsoft.datawrangler.viewer.v0+json": {
       "columns": [
        {
         "name": "index",
         "rawType": "int64",
         "type": "integer"
        },
        {
         "name": "sale_id",
         "rawType": "object",
         "type": "string"
        },
        {
         "name": "sale_date",
         "rawType": "datetime64[ns]",
         "type": "datetime"
        },
        {
         "name": "store_id",
         "rawType": "object",
         "type": "string"
        },
        {
         "name": "product_id",
         "rawType": "object",
         "type": "string"
        },
        {
         "name": "quantity",
         "rawType": "int64",
         "type": "integer"
        },
        {
         "name": "product_name",
         "rawType": "object",
         "type": "string"
        },
        {
         "name": "launch_date",
         "rawType": "datetime64[ns]",
         "type": "datetime"
        },
        {
         "name": "price",
         "rawType": "int64",
         "type": "integer"
        },
        {
         "name": "store_name",
         "rawType": "object",
         "type": "string"
        },
        {
         "name": "city",
         "rawType": "object",
         "type": "string"
        },
        {
         "name": "country",
         "rawType": "object",
         "type": "string"
        },
        {
         "name": "category_id",
         "rawType": "object",
         "type": "string"
        },
        {
         "name": "category_name",
         "rawType": "object",
         "type": "string"
        },
        {
         "name": "sales_amount",
         "rawType": "int64",
         "type": "integer"
        },
        {
         "name": "product_age_days",
         "rawType": "int64",
         "type": "integer"
        }
       ],
       "ref": "3a6ce1cf-99bb-4233-b43f-ff05837d27fa",
       "rows": [
        [
         "0",
         "RW-18212",
         "2020-01-01 00:00:00",
         "ST-41",
         "P-73",
         "2",
         "Apple One",
         "2020-05-02 00:00:00",
         "488",
         "Apple Central World",
         "Bangkok",
         "Thailand",
         "CAT-8",
         "Subscription Service",
         "976",
         "0"
        ],
        [
         "1",
         "RX-6848",
         "2020-01-01 00:00:00",
         "ST-31",
         "P-40",
         "7",
         "iPhone SE (3rd Generation)",
         "2022-11-10 00:00:00",
         "923",
         "Apple Shinjuku",
         "Tokyo",
         "Japan",
         "CAT-4",
         "Smartphone",
         "6461",
         "0"
        ],
        [
         "2",
         "SV-39198",
         "2020-01-01 00:00:00",
         "ST-9",
         "P-73",
         "7",
         "Apple One",
         "2020-05-02 00:00:00",
         "488",
         "Apple Park Visitor Center",
         "Cupertino",
         "United States",
         "CAT-8",
         "Subscription Service",
         "3416",
         "0"
        ],
        [
         "3",
         "ZI-218670",
         "2020-01-01 00:00:00",
         "ST-20",
         "P-70",
         "1",
         "Apple Fitness+",
         "2021-05-06 00:00:00",
         "923",
         "Apple Kaerntner Strasse",
         "Vienna",
         "Austria",
         "CAT-8",
         "Subscription Service",
         "923",
         "0"
        ],
        [
         "4",
         "VB-48589",
         "2020-01-01 00:00:00",
         "ST-60",
         "P-18",
         "9",
         "Beats Solo Pro",
         "2024-02-26 00:00:00",
         "1773",
         "Apple Antara",
         "Mexico City",
         "Mexico",
         "CAT-2",
         "Audio",
         "15957",
         "0"
        ]
       ],
       "shape": {
        "columns": 15,
        "rows": 5
       }
      },
      "text/html": [
       "<div>\n",
       "<style scoped>\n",
       "    .dataframe tbody tr th:only-of-type {\n",
       "        vertical-align: middle;\n",
       "    }\n",
       "\n",
       "    .dataframe tbody tr th {\n",
       "        vertical-align: top;\n",
       "    }\n",
       "\n",
       "    .dataframe thead th {\n",
       "        text-align: right;\n",
       "    }\n",
       "</style>\n",
       "<table border=\"1\" class=\"dataframe\">\n",
       "  <thead>\n",
       "    <tr style=\"text-align: right;\">\n",
       "      <th></th>\n",
       "      <th>sale_id</th>\n",
       "      <th>sale_date</th>\n",
       "      <th>store_id</th>\n",
       "      <th>product_id</th>\n",
       "      <th>quantity</th>\n",
       "      <th>product_name</th>\n",
       "      <th>launch_date</th>\n",
       "      <th>price</th>\n",
       "      <th>store_name</th>\n",
       "      <th>city</th>\n",
       "      <th>country</th>\n",
       "      <th>category_id</th>\n",
       "      <th>category_name</th>\n",
       "      <th>sales_amount</th>\n",
       "      <th>product_age_days</th>\n",
       "    </tr>\n",
       "  </thead>\n",
       "  <tbody>\n",
       "    <tr>\n",
       "      <th>0</th>\n",
       "      <td>RW-18212</td>\n",
       "      <td>2020-01-01</td>\n",
       "      <td>ST-41</td>\n",
       "      <td>P-73</td>\n",
       "      <td>2</td>\n",
       "      <td>Apple One</td>\n",
       "      <td>2020-05-02</td>\n",
       "      <td>488</td>\n",
       "      <td>Apple Central World</td>\n",
       "      <td>Bangkok</td>\n",
       "      <td>Thailand</td>\n",
       "      <td>CAT-8</td>\n",
       "      <td>Subscription Service</td>\n",
       "      <td>976</td>\n",
       "      <td>0</td>\n",
       "    </tr>\n",
       "    <tr>\n",
       "      <th>1</th>\n",
       "      <td>RX-6848</td>\n",
       "      <td>2020-01-01</td>\n",
       "      <td>ST-31</td>\n",
       "      <td>P-40</td>\n",
       "      <td>7</td>\n",
       "      <td>iPhone SE (3rd Generation)</td>\n",
       "      <td>2022-11-10</td>\n",
       "      <td>923</td>\n",
       "      <td>Apple Shinjuku</td>\n",
       "      <td>Tokyo</td>\n",
       "      <td>Japan</td>\n",
       "      <td>CAT-4</td>\n",
       "      <td>Smartphone</td>\n",
       "      <td>6461</td>\n",
       "      <td>0</td>\n",
       "    </tr>\n",
       "    <tr>\n",
       "      <th>2</th>\n",
       "      <td>SV-39198</td>\n",
       "      <td>2020-01-01</td>\n",
       "      <td>ST-9</td>\n",
       "      <td>P-73</td>\n",
       "      <td>7</td>\n",
       "      <td>Apple One</td>\n",
       "      <td>2020-05-02</td>\n",
       "      <td>488</td>\n",
       "      <td>Apple Park Visitor Center</td>\n",
       "      <td>Cupertino</td>\n",
       "      <td>United States</td>\n",
       "      <td>CAT-8</td>\n",
       "      <td>Subscription Service</td>\n",
       "      <td>3416</td>\n",
       "      <td>0</td>\n",
       "    </tr>\n",
       "    <tr>\n",
       "      <th>3</th>\n",
       "      <td>ZI-218670</td>\n",
       "      <td>2020-01-01</td>\n",
       "      <td>ST-20</td>\n",
       "      <td>P-70</td>\n",
       "      <td>1</td>\n",
       "      <td>Apple Fitness+</td>\n",
       "      <td>2021-05-06</td>\n",
       "      <td>923</td>\n",
       "      <td>Apple Kaerntner Strasse</td>\n",
       "      <td>Vienna</td>\n",
       "      <td>Austria</td>\n",
       "      <td>CAT-8</td>\n",
       "      <td>Subscription Service</td>\n",
       "      <td>923</td>\n",
       "      <td>0</td>\n",
       "    </tr>\n",
       "    <tr>\n",
       "      <th>4</th>\n",
       "      <td>VB-48589</td>\n",
       "      <td>2020-01-01</td>\n",
       "      <td>ST-60</td>\n",
       "      <td>P-18</td>\n",
       "      <td>9</td>\n",
       "      <td>Beats Solo Pro</td>\n",
       "      <td>2024-02-26</td>\n",
       "      <td>1773</td>\n",
       "      <td>Apple Antara</td>\n",
       "      <td>Mexico City</td>\n",
       "      <td>Mexico</td>\n",
       "      <td>CAT-2</td>\n",
       "      <td>Audio</td>\n",
       "      <td>15957</td>\n",
       "      <td>0</td>\n",
       "    </tr>\n",
       "  </tbody>\n",
       "</table>\n",
       "</div>"
      ],
      "text/plain": [
       "     sale_id  sale_date store_id product_id  quantity  \\\n",
       "0   RW-18212 2020-01-01    ST-41       P-73         2   \n",
       "1    RX-6848 2020-01-01    ST-31       P-40         7   \n",
       "2   SV-39198 2020-01-01     ST-9       P-73         7   \n",
       "3  ZI-218670 2020-01-01    ST-20       P-70         1   \n",
       "4   VB-48589 2020-01-01    ST-60       P-18         9   \n",
       "\n",
       "                 product_name launch_date  price                 store_name  \\\n",
       "0                   Apple One  2020-05-02    488        Apple Central World   \n",
       "1  iPhone SE (3rd Generation)  2022-11-10    923             Apple Shinjuku   \n",
       "2                   Apple One  2020-05-02    488  Apple Park Visitor Center   \n",
       "3              Apple Fitness+  2021-05-06    923    Apple Kaerntner Strasse   \n",
       "4              Beats Solo Pro  2024-02-26   1773               Apple Antara   \n",
       "\n",
       "          city        country category_id         category_name  sales_amount  \\\n",
       "0      Bangkok       Thailand       CAT-8  Subscription Service           976   \n",
       "1        Tokyo          Japan       CAT-4            Smartphone          6461   \n",
       "2    Cupertino  United States       CAT-8  Subscription Service          3416   \n",
       "3       Vienna        Austria       CAT-8  Subscription Service           923   \n",
       "4  Mexico City         Mexico       CAT-2                 Audio         15957   \n",
       "\n",
       "   product_age_days  \n",
       "0                 0  \n",
       "1                 0  \n",
       "2                 0  \n",
       "3                 0  \n",
       "4                 0  "
      ]
     },
     "execution_count": 17,
     "metadata": {},
     "output_type": "execute_result"
    }
   ],
   "source": [
    "df.head()\n"
   ]
  },
  {
   "cell_type": "code",
   "execution_count": 18,
   "id": "ed1a4c56",
   "metadata": {},
   "outputs": [
    {
     "name": "stdout",
     "output_type": "stream",
     "text": [
      "Invalid launch dates: 493143\n"
     ]
    }
   ],
   "source": [
    "invalid_launch = df[df['launch_date'] > df['sale_date']]\n",
    "print(\"Invalid launch dates:\", len(invalid_launch))\n"
   ]
  },
  {
   "cell_type": "code",
   "execution_count": 19,
   "id": "439e6628",
   "metadata": {},
   "outputs": [
    {
     "name": "stdout",
     "output_type": "stream",
     "text": [
      "Missing launch_date: 0\n"
     ]
    }
   ],
   "source": [
    "print(\"Missing launch_date:\", df['launch_date'].isna().sum())\n"
   ]
  },
  {
   "cell_type": "code",
   "execution_count": 20,
   "id": "3b242eed",
   "metadata": {},
   "outputs": [],
   "source": [
    "df.loc[df['launch_date'] > df['sale_date'], 'launch_date'] = df['sale_date']\n",
    "df['product_age_days'] = (df['sale_date'] - df['launch_date']).dt.days"
   ]
  },
  {
   "cell_type": "code",
   "execution_count": 21,
   "id": "6a2428e6",
   "metadata": {},
   "outputs": [
    {
     "data": {
      "application/vnd.microsoft.datawrangler.viewer.v0+json": {
       "columns": [
        {
         "name": "index",
         "rawType": "int64",
         "type": "integer"
        },
        {
         "name": "sale_id",
         "rawType": "object",
         "type": "string"
        },
        {
         "name": "sale_date",
         "rawType": "datetime64[ns]",
         "type": "datetime"
        },
        {
         "name": "store_id",
         "rawType": "object",
         "type": "string"
        },
        {
         "name": "product_id",
         "rawType": "object",
         "type": "string"
        },
        {
         "name": "quantity",
         "rawType": "int64",
         "type": "integer"
        },
        {
         "name": "product_name",
         "rawType": "object",
         "type": "string"
        },
        {
         "name": "launch_date",
         "rawType": "datetime64[ns]",
         "type": "datetime"
        },
        {
         "name": "price",
         "rawType": "int64",
         "type": "integer"
        },
        {
         "name": "store_name",
         "rawType": "object",
         "type": "string"
        },
        {
         "name": "city",
         "rawType": "object",
         "type": "string"
        },
        {
         "name": "country",
         "rawType": "object",
         "type": "string"
        },
        {
         "name": "category_id",
         "rawType": "object",
         "type": "string"
        },
        {
         "name": "category_name",
         "rawType": "object",
         "type": "string"
        },
        {
         "name": "sales_amount",
         "rawType": "int64",
         "type": "integer"
        },
        {
         "name": "product_age_days",
         "rawType": "int64",
         "type": "integer"
        }
       ],
       "ref": "86c749b3-1ac5-4fba-a152-559faf3a593c",
       "rows": [
        [
         "0",
         "RW-18212",
         "2020-01-01 00:00:00",
         "ST-41",
         "P-73",
         "2",
         "Apple One",
         "2020-01-01 00:00:00",
         "488",
         "Apple Central World",
         "Bangkok",
         "Thailand",
         "CAT-8",
         "Subscription Service",
         "976",
         "0"
        ],
        [
         "1",
         "RX-6848",
         "2020-01-01 00:00:00",
         "ST-31",
         "P-40",
         "7",
         "iPhone SE (3rd Generation)",
         "2020-01-01 00:00:00",
         "923",
         "Apple Shinjuku",
         "Tokyo",
         "Japan",
         "CAT-4",
         "Smartphone",
         "6461",
         "0"
        ],
        [
         "2",
         "SV-39198",
         "2020-01-01 00:00:00",
         "ST-9",
         "P-73",
         "7",
         "Apple One",
         "2020-01-01 00:00:00",
         "488",
         "Apple Park Visitor Center",
         "Cupertino",
         "United States",
         "CAT-8",
         "Subscription Service",
         "3416",
         "0"
        ],
        [
         "3",
         "ZI-218670",
         "2020-01-01 00:00:00",
         "ST-20",
         "P-70",
         "1",
         "Apple Fitness+",
         "2020-01-01 00:00:00",
         "923",
         "Apple Kaerntner Strasse",
         "Vienna",
         "Austria",
         "CAT-8",
         "Subscription Service",
         "923",
         "0"
        ],
        [
         "4",
         "VB-48589",
         "2020-01-01 00:00:00",
         "ST-60",
         "P-18",
         "9",
         "Beats Solo Pro",
         "2020-01-01 00:00:00",
         "1773",
         "Apple Antara",
         "Mexico City",
         "Mexico",
         "CAT-2",
         "Audio",
         "15957",
         "0"
        ]
       ],
       "shape": {
        "columns": 15,
        "rows": 5
       }
      },
      "text/html": [
       "<div>\n",
       "<style scoped>\n",
       "    .dataframe tbody tr th:only-of-type {\n",
       "        vertical-align: middle;\n",
       "    }\n",
       "\n",
       "    .dataframe tbody tr th {\n",
       "        vertical-align: top;\n",
       "    }\n",
       "\n",
       "    .dataframe thead th {\n",
       "        text-align: right;\n",
       "    }\n",
       "</style>\n",
       "<table border=\"1\" class=\"dataframe\">\n",
       "  <thead>\n",
       "    <tr style=\"text-align: right;\">\n",
       "      <th></th>\n",
       "      <th>sale_id</th>\n",
       "      <th>sale_date</th>\n",
       "      <th>store_id</th>\n",
       "      <th>product_id</th>\n",
       "      <th>quantity</th>\n",
       "      <th>product_name</th>\n",
       "      <th>launch_date</th>\n",
       "      <th>price</th>\n",
       "      <th>store_name</th>\n",
       "      <th>city</th>\n",
       "      <th>country</th>\n",
       "      <th>category_id</th>\n",
       "      <th>category_name</th>\n",
       "      <th>sales_amount</th>\n",
       "      <th>product_age_days</th>\n",
       "    </tr>\n",
       "  </thead>\n",
       "  <tbody>\n",
       "    <tr>\n",
       "      <th>0</th>\n",
       "      <td>RW-18212</td>\n",
       "      <td>2020-01-01</td>\n",
       "      <td>ST-41</td>\n",
       "      <td>P-73</td>\n",
       "      <td>2</td>\n",
       "      <td>Apple One</td>\n",
       "      <td>2020-01-01</td>\n",
       "      <td>488</td>\n",
       "      <td>Apple Central World</td>\n",
       "      <td>Bangkok</td>\n",
       "      <td>Thailand</td>\n",
       "      <td>CAT-8</td>\n",
       "      <td>Subscription Service</td>\n",
       "      <td>976</td>\n",
       "      <td>0</td>\n",
       "    </tr>\n",
       "    <tr>\n",
       "      <th>1</th>\n",
       "      <td>RX-6848</td>\n",
       "      <td>2020-01-01</td>\n",
       "      <td>ST-31</td>\n",
       "      <td>P-40</td>\n",
       "      <td>7</td>\n",
       "      <td>iPhone SE (3rd Generation)</td>\n",
       "      <td>2020-01-01</td>\n",
       "      <td>923</td>\n",
       "      <td>Apple Shinjuku</td>\n",
       "      <td>Tokyo</td>\n",
       "      <td>Japan</td>\n",
       "      <td>CAT-4</td>\n",
       "      <td>Smartphone</td>\n",
       "      <td>6461</td>\n",
       "      <td>0</td>\n",
       "    </tr>\n",
       "    <tr>\n",
       "      <th>2</th>\n",
       "      <td>SV-39198</td>\n",
       "      <td>2020-01-01</td>\n",
       "      <td>ST-9</td>\n",
       "      <td>P-73</td>\n",
       "      <td>7</td>\n",
       "      <td>Apple One</td>\n",
       "      <td>2020-01-01</td>\n",
       "      <td>488</td>\n",
       "      <td>Apple Park Visitor Center</td>\n",
       "      <td>Cupertino</td>\n",
       "      <td>United States</td>\n",
       "      <td>CAT-8</td>\n",
       "      <td>Subscription Service</td>\n",
       "      <td>3416</td>\n",
       "      <td>0</td>\n",
       "    </tr>\n",
       "    <tr>\n",
       "      <th>3</th>\n",
       "      <td>ZI-218670</td>\n",
       "      <td>2020-01-01</td>\n",
       "      <td>ST-20</td>\n",
       "      <td>P-70</td>\n",
       "      <td>1</td>\n",
       "      <td>Apple Fitness+</td>\n",
       "      <td>2020-01-01</td>\n",
       "      <td>923</td>\n",
       "      <td>Apple Kaerntner Strasse</td>\n",
       "      <td>Vienna</td>\n",
       "      <td>Austria</td>\n",
       "      <td>CAT-8</td>\n",
       "      <td>Subscription Service</td>\n",
       "      <td>923</td>\n",
       "      <td>0</td>\n",
       "    </tr>\n",
       "    <tr>\n",
       "      <th>4</th>\n",
       "      <td>VB-48589</td>\n",
       "      <td>2020-01-01</td>\n",
       "      <td>ST-60</td>\n",
       "      <td>P-18</td>\n",
       "      <td>9</td>\n",
       "      <td>Beats Solo Pro</td>\n",
       "      <td>2020-01-01</td>\n",
       "      <td>1773</td>\n",
       "      <td>Apple Antara</td>\n",
       "      <td>Mexico City</td>\n",
       "      <td>Mexico</td>\n",
       "      <td>CAT-2</td>\n",
       "      <td>Audio</td>\n",
       "      <td>15957</td>\n",
       "      <td>0</td>\n",
       "    </tr>\n",
       "  </tbody>\n",
       "</table>\n",
       "</div>"
      ],
      "text/plain": [
       "     sale_id  sale_date store_id product_id  quantity  \\\n",
       "0   RW-18212 2020-01-01    ST-41       P-73         2   \n",
       "1    RX-6848 2020-01-01    ST-31       P-40         7   \n",
       "2   SV-39198 2020-01-01     ST-9       P-73         7   \n",
       "3  ZI-218670 2020-01-01    ST-20       P-70         1   \n",
       "4   VB-48589 2020-01-01    ST-60       P-18         9   \n",
       "\n",
       "                 product_name launch_date  price                 store_name  \\\n",
       "0                   Apple One  2020-01-01    488        Apple Central World   \n",
       "1  iPhone SE (3rd Generation)  2020-01-01    923             Apple Shinjuku   \n",
       "2                   Apple One  2020-01-01    488  Apple Park Visitor Center   \n",
       "3              Apple Fitness+  2020-01-01    923    Apple Kaerntner Strasse   \n",
       "4              Beats Solo Pro  2020-01-01   1773               Apple Antara   \n",
       "\n",
       "          city        country category_id         category_name  sales_amount  \\\n",
       "0      Bangkok       Thailand       CAT-8  Subscription Service           976   \n",
       "1        Tokyo          Japan       CAT-4            Smartphone          6461   \n",
       "2    Cupertino  United States       CAT-8  Subscription Service          3416   \n",
       "3       Vienna        Austria       CAT-8  Subscription Service           923   \n",
       "4  Mexico City         Mexico       CAT-2                 Audio         15957   \n",
       "\n",
       "   product_age_days  \n",
       "0                 0  \n",
       "1                 0  \n",
       "2                 0  \n",
       "3                 0  \n",
       "4                 0  "
      ]
     },
     "execution_count": 21,
     "metadata": {},
     "output_type": "execute_result"
    }
   ],
   "source": [
    "df.head()\n"
   ]
  },
  {
   "cell_type": "code",
   "execution_count": 22,
   "id": "a7ba3b3c",
   "metadata": {},
   "outputs": [
    {
     "name": "stdout",
     "output_type": "stream",
     "text": [
      "Number of missing launch_date values: 0\n",
      "Number of unique launch_date values: 1770\n"
     ]
    }
   ],
   "source": [
    "num_missing = df['launch_date'].isna().sum()\n",
    "print(f\"Number of missing launch_date values: {num_missing}\")\n",
    "\n",
    "num_unique = df['launch_date'].nunique()\n",
    "print(f\"Number of unique launch_date values: {num_unique}\")\n",
    "\n"
   ]
  },
  {
   "cell_type": "code",
   "execution_count": 23,
   "id": "d12b12bb",
   "metadata": {},
   "outputs": [
    {
     "name": "stdout",
     "output_type": "stream",
     "text": [
      "Unique launch_date values (excluding NaN):\n",
      "<DatetimeArray>\n",
      "['2020-01-01 00:00:00', '2020-01-02 00:00:00', '2020-01-03 00:00:00',\n",
      " '2020-01-04 00:00:00', '2020-01-05 00:00:00', '2020-01-06 00:00:00',\n",
      " '2020-01-07 00:00:00', '2020-01-08 00:00:00', '2020-01-09 00:00:00',\n",
      " '2020-01-10 00:00:00',\n",
      " ...\n",
      " '2024-10-26 00:00:00', '2024-10-27 00:00:00', '2024-10-28 00:00:00',\n",
      " '2024-10-29 00:00:00', '2024-10-30 00:00:00', '2024-10-31 00:00:00',\n",
      " '2024-11-01 00:00:00', '2024-11-02 00:00:00', '2024-11-03 00:00:00',\n",
      " '2024-11-04 00:00:00']\n",
      "Length: 1770, dtype: datetime64[ns]\n",
      "\n",
      "Number of unique launch_date values (excluding NaN): 1770\n",
      "\n",
      "Unique launch_date values (including NaN if any):\n",
      "<DatetimeArray>\n",
      "['2020-01-01 00:00:00', '2020-01-02 00:00:00', '2020-01-03 00:00:00',\n",
      " '2020-01-04 00:00:00', '2020-01-05 00:00:00', '2020-01-06 00:00:00',\n",
      " '2020-01-07 00:00:00', '2020-01-08 00:00:00', '2020-01-09 00:00:00',\n",
      " '2020-01-10 00:00:00',\n",
      " ...\n",
      " '2024-10-26 00:00:00', '2024-10-27 00:00:00', '2024-10-28 00:00:00',\n",
      " '2024-10-29 00:00:00', '2024-10-30 00:00:00', '2024-10-31 00:00:00',\n",
      " '2024-11-01 00:00:00', '2024-11-02 00:00:00', '2024-11-03 00:00:00',\n",
      " '2024-11-04 00:00:00']\n",
      "Length: 1770, dtype: datetime64[ns]\n"
     ]
    }
   ],
   "source": [
    "unique_values = df['launch_date'].dropna().unique()\n",
    "print(\"Unique launch_date values (excluding NaN):\")\n",
    "print(unique_values)\n",
    "\n",
    "\n",
    "num_unique = len(unique_values)\n",
    "print(f\"\\nNumber of unique launch_date values (excluding NaN): {num_unique}\")\n",
    "\n",
    "\n",
    "unique_values_with_nan = df['launch_date'].unique()\n",
    "print(\"\\nUnique launch_date values (including NaN if any):\")\n",
    "print(unique_values_with_nan)\n"
   ]
  },
  {
   "cell_type": "code",
   "execution_count": 24,
   "id": "0169653c",
   "metadata": {},
   "outputs": [
    {
     "name": "stdout",
     "output_type": "stream",
     "text": [
      "Number of missing sale_date values: 0\n"
     ]
    }
   ],
   "source": [
    "missing_sales_dates = df['sale_date'].isna().sum()\n",
    "print(f\"Number of missing sale_date values: {missing_sales_dates}\")\n"
   ]
  },
  {
   "cell_type": "code",
   "execution_count": 25,
   "id": "8f04d106",
   "metadata": {},
   "outputs": [
    {
     "name": "stdout",
     "output_type": "stream",
     "text": [
      "✅ Cleaned dataset saved successfully to data/processed/cleaned_apple_sales.csv\n"
     ]
    }
   ],
   "source": [
    "os.makedirs(\"../data/processed\", exist_ok=True)\n",
    "\n",
    "df.to_csv(\"../data/processed/cleaned_apple_sales.csv\", index=False)\n",
    "\n",
    "print(\"✅ Cleaned dataset saved successfully to data/processed/cleaned_apple_sales.csv\")\n"
   ]
  },
  {
   "cell_type": "code",
   "execution_count": 27,
   "id": "4f27af9c",
   "metadata": {},
   "outputs": [
    {
     "name": "stdout",
     "output_type": "stream",
     "text": [
      "quantity: 0 outliers\n",
      "price: 0 outliers\n",
      "sales_amount: 9380 outliers\n",
      "product_age_days: 21313 outliers\n"
     ]
    }
   ],
   "source": [
    "num_cols = ['quantity', 'price', 'sales_amount', 'product_age_days']\n",
    "\n",
    "for col in num_cols:\n",
    "    Q1 = df[col].quantile(0.25)\n",
    "    Q3 = df[col].quantile(0.75)\n",
    "    IQR = Q3 - Q1\n",
    "    lower = Q1 - 1.5 * IQR\n",
    "    upper = Q3 + 1.5 * IQR\n",
    "    outliers = df[(df[col] < lower) | (df[col] > upper)]\n",
    "    print(f\"{col}: {len(outliers)} outliers\")"
   ]
  },
  {
   "cell_type": "code",
   "execution_count": null,
   "id": "4ffd2173",
   "metadata": {},
   "outputs": [
    {
     "name": "stdout",
     "output_type": "stream",
     "text": [
      "sales_amount outliers: 0.90%\n",
      "product_age_days outliers: 2.05%\n"
     ]
    }
   ],
   "source": [
    "def outlier_percentage(df, column):\n",
    "    Q1 = df[column].quantile(0.25)\n",
    "    Q3 = df[column].quantile(0.75)\n",
    "    IQR = Q3 - Q1\n",
    "    lower_bound = Q1 - 1.5 * IQR\n",
    "    upper_bound = Q3 + 1.5 * IQR\n",
    "    outliers = df[(df[column] < lower_bound) | (df[column] > upper_bound)]\n",
    "    percentage = (len(outliers) / len(df)) * 100\n",
    "    return percentage\n",
    "\n",
    "sales_outlier_pct = outlier_percentage(df, 'sales_amount')\n",
    "product_age_outlier_pct = outlier_percentage(df, 'product_age_days')\n",
    "\n",
    "print(f\"sales_amount outliers: {sales_outlier_pct:.2f}%\")\n",
    "print(f\"product_age_days outliers: {product_age_outlier_pct:.2f}%\")"
   ]
  },
  {
   "cell_type": "code",
   "execution_count": 29,
   "id": "83deaf61",
   "metadata": {},
   "outputs": [
    {
     "data": {
      "image/png": "[encoded data removed]",
      "text/plain": [
       "<Figure size 800x400 with 1 Axes>"
      ]
     },
     "metadata": {},
     "output_type": "display_data"
    },
    {
     "data": {
      "image/png": "[encoded data removed]",
      "text/plain": [
       "<Figure size 800x400 with 1 Axes>"
      ]
     },
     "metadata": {},
     "output_type": "display_data"
    },
    {
     "data": {
      "image/png": "[encoded data removed]",
      "text/plain": [
       "<Figure size 800x400 with 1 Axes>"
      ]
     },
     "metadata": {},
     "output_type": "display_data"
    },
    {
     "data": {
      "image/png": "[encoded data removed]",
      "text/plain": [
       "<Figure size 800x400 with 1 Axes>"
      ]
     },
     "metadata": {},
     "output_type": "display_data"
    }
   ],
   "source": [
    "for col in num_cols:\n",
    "    plt.figure(figsize=(8, 4))\n",
    "    sns.boxplot(x=df[col])\n",
    "    plt.title(col)\n",
    "    plt.show()"
   ]
  },
  {
   "cell_type": "code",
   "execution_count": 30,
   "id": "230f5de2",
   "metadata": {},
   "outputs": [
    {
     "data": {
      "image/png": "[encoded data removed]",
      "text/plain": [
       "<Figure size 640x480 with 1 Axes>"
      ]
     },
     "metadata": {},
     "output_type": "display_data"
    },
    {
     "data": {
      "image/png": "[encoded data removed]",
      "text/plain": [
       "<Figure size 640x480 with 1 Axes>"
      ]
     },
     "metadata": {},
     "output_type": "display_data"
    }
   ],
   "source": [
    "sns.boxplot(x=df['sales_amount'])\n",
    "plt.title(\"Sales Amount Outliers\")\n",
    "plt.show()\n",
    "\n",
    "sns.boxplot(x=df['product_age_days'])\n",
    "plt.title(\"Product Age Days Outliers\")\n",
    "plt.show()"
   ]
  },
  {
   "cell_type": "code",
   "execution_count": 32,
   "id": "bc62da20",
   "metadata": {},
   "outputs": [
    {
     "data": {
      "image/png": "[encoded data removed]",
      "text/plain": [
       "<Figure size 1000x600 with 1 Axes>"
      ]
     },
     "metadata": {},
     "output_type": "display_data"
    }
   ],
   "source": [
    "plt.figure(figsize=(10,6))\n",
    "sns.histplot(df['product_age_days'], bins=50, kde=True, color='skyblue')\n",
    "plt.title('Distribution of Product Age (Days)')\n",
    "plt.xlabel('Product Age (Days)')\n",
    "plt.ylabel('Frequency')\n",
    "plt.show()"
   ]
  },
  {
   "cell_type": "code",
   "execution_count": 33,
   "id": "5728bbc9",
   "metadata": {},
   "outputs": [
    {
     "data": {
      "text/plain": [
       "np.float64(0.031639104612208035)"
      ]
     },
     "execution_count": 33,
     "metadata": {},
     "output_type": "execute_result"
    }
   ],
   "source": [
    "df['sales_amount'].corr(df['product_age_days'])"
   ]
  },
  {
   "cell_type": "code",
   "execution_count": null,
   "id": "825254f9",
   "metadata": {},
   "outputs": [
    {
     "data": {
      "image/png": "[encoded data removed]",
      "text/plain": [
       "<Figure size 1000x800 with 2 Axes>"
      ]
     },
     "metadata": {},
     "output_type": "display_data"
    }
   ],
   "source": [
    "numeric_df = df.select_dtypes(include=['int64', 'float64'])\n",
    "corr = numeric_df.corr()\n",
    "plt.figure(figsize=(10, 8))\n",
    "sns.heatmap(corr, annot=True, cmap='coolwarm', fmt=\".2f\", linewidths=0.5, square=True,\n",
    "            cbar_kws={\"shrink\": 0.8}, annot_kws={\"size\": 9})\n",
    "plt.title(\"Correlation Heatmap of Numerical Features\", fontsize=14, pad=10)\n",
    "plt.xticks(rotation=45, ha='right')\n",
    "plt.yticks(rotation=0)\n",
    "plt.show()\n"
   ]
  },
  {
   "cell_type": "code",
   "execution_count": null,
   "id": "20c70ee8",
   "metadata": {},
   "outputs": [],
   "source": []
  }
 ],
 "metadata": {
  "kernelspec": {
   "display_name": ".venv",
   "language": "python",
   "name": "python3"
  },
  "language_info": {
   "codemirror_mode": {
    "name": "ipython",
    "version": 3
   },
   "file_extension": ".py",
   "mimetype": "text/x-python",
   "name": "python",
   "nbconvert_exporter": "python",
   "pygments_lexer": "ipython3",
   "version": "3.12.7"
  }
 },
 "nbformat": 4,
 "nbformat_minor": 5
}
